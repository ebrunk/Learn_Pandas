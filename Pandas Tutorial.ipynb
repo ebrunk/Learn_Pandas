{
 "cells": [
  {
   "cell_type": "markdown",
   "id": "37b59392",
   "metadata": {},
   "source": [
    "# Python Pandas Tutorial: A Complete Introduction for Beginners"
   ]
  },
  {
   "cell_type": "markdown",
   "id": "52a1b2bc",
   "metadata": {},
   "source": [
    "The *pandas* package is the most important tool at the disposal of Data Scientists and Analysts working in Python today. The powerful machine learning and glamorous visualization tools may get all the attention, but pandas is the backbone of most data projects. \n",
    "\n",
    ">\\[*pandas*\\] is derived from the term \"**pan**el **da**ta\", an econometrics term for data sets that include observations over multiple time periods for the same individuals. — [Wikipedia](https://en.wikipedia.org/wiki/Pandas_%28software%29)\n",
    "\n",
    "Think of pandas as the python version of Excel! \n",
    "\n",
    "Parts of this tutorial were adapted from a similar tutorial from the git repo: LearnDataSci"
   ]
  },
  {
   "cell_type": "markdown",
   "id": "968f10a8",
   "metadata": {},
   "source": [
    "## 1.0 Pandas First Steps\n",
    "\n",
    "### Install and import\n",
    "Pandas is an easy package to install. It can be installed with either PC or Mac environments. \n",
    "Here, we will walk you through installing in MacOS environment using Anaconda. \n",
    "\n",
    ">Instructions are valid as of June 2022, for MacOS version Big Sur."
   ]
  },
  {
   "cell_type": "markdown",
   "id": "480fe34c",
   "metadata": {},
   "source": [
    "Use magnifier to find \"terminal\"\n",
    "\n",
    "Type:\n",
    "\n",
    "`cd ~/Downloads`\n",
    "\n",
    "Then:\n",
    "\n",
    "`curl -O https://repo.anaconda.com/archive/Anaconda3-2021.05-MacOSX-x86_64.sh`\n",
    "\n",
    "Then: \n",
    "\n",
    "`bash ./Anaconda3-2021.05-MacOSX-x86_64.sh`\n",
    "\n",
    "Then:\n",
    "\n",
    "`yes` to accept the license terms and agreement\n",
    "\n",
    "Then: \n",
    "\n",
    "`yes` for the installer to initialize Anaconda3"
   ]
  },
  {
   "cell_type": "markdown",
   "id": "0ad459ca",
   "metadata": {},
   "source": [
    "To verify the installation, type:\n",
    "\n",
    "`python --version`\n",
    "\n",
    "To make sure you are using the latest version of conda, type:\n",
    "\n",
    "`conda update --all --yes`"
   ]
  },
  {
   "cell_type": "markdown",
   "id": "3b71c347",
   "metadata": {},
   "source": [
    "To run jupyter notebook, type:\n",
    "\n",
    "`jupyter notebook`"
   ]
  },
  {
   "cell_type": "markdown",
   "id": "ced2aff0",
   "metadata": {},
   "source": [
    "It is common to import pandas (i.e. use it inside the jupyter notebook) as \"pd\" for brevity.\n",
    "\n",
    "This can be done by running:"
   ]
  },
  {
   "cell_type": "code",
   "execution_count": 1,
   "id": "be810bdc",
   "metadata": {},
   "outputs": [],
   "source": [
    "import pandas as pd"
   ]
  },
  {
   "cell_type": "markdown",
   "id": "0333e343",
   "metadata": {},
   "source": [
    "___________________"
   ]
  },
  {
   "cell_type": "markdown",
   "id": "724ab966",
   "metadata": {},
   "source": [
    "## 2.0 Understanding Key Components of Pandas"
   ]
  },
  {
   "cell_type": "markdown",
   "id": "09e00ad1",
   "metadata": {},
   "source": [
    "## Core components of pandas: Series and DataFrames\n",
    "\n",
    "The primary two components of pandas are the `Series` and `DataFrame`. \n",
    "\n",
    "A `Series` is essentially a column, and a `DataFrame` is a multi-dimensional table made up of a collection of Series. \n",
    "\n",
    "<img src=\"series-and-dataframe.png\" width=600px />\n",
    "\n",
    "DataFrames and Series are quite similar in that many operations that you can do with one, you can do with the other- such as filling in null values and calculating the mean.\n",
    "\n",
    "You'll see how these components work when we start working with data below. "
   ]
  },
  {
   "cell_type": "markdown",
   "id": "a10dbd45",
   "metadata": {},
   "source": [
    "### Creating DataFrames from scratch\n",
    "Creating DataFrames directly in Python is good to know, and quite useful when testing new methods and functions you find in the pandas docs.\n",
    "\n",
    "There are *many* ways to create a DataFrame from scratch, but a great option is to just use a simple `dict`. \n",
    "\n",
    "Let's say we have a fruit stand that sells apples and oranges. We want to have a column for each fruit and a row for each customer purchase. To organize this as a dictionary for pandas we could do something like:"
   ]
  },
  {
   "cell_type": "code",
   "execution_count": 2,
   "id": "224d9218",
   "metadata": {},
   "outputs": [],
   "source": [
    "fruit = {\n",
    "    'apples': [3, 2, 0, 1], \n",
    "    'oranges': [0, 3, 7, 2]\n",
    "}"
   ]
  },
  {
   "cell_type": "markdown",
   "id": "7e53a79b",
   "metadata": {},
   "source": [
    "And then pass it to the pandas DataFrame constructor:"
   ]
  },
  {
   "cell_type": "code",
   "execution_count": 3,
   "id": "f18a9dfc",
   "metadata": {},
   "outputs": [
    {
     "data": {
      "text/html": [
       "<div>\n",
       "<style scoped>\n",
       "    .dataframe tbody tr th:only-of-type {\n",
       "        vertical-align: middle;\n",
       "    }\n",
       "\n",
       "    .dataframe tbody tr th {\n",
       "        vertical-align: top;\n",
       "    }\n",
       "\n",
       "    .dataframe thead th {\n",
       "        text-align: right;\n",
       "    }\n",
       "</style>\n",
       "<table border=\"1\" class=\"dataframe\">\n",
       "  <thead>\n",
       "    <tr style=\"text-align: right;\">\n",
       "      <th></th>\n",
       "      <th>apples</th>\n",
       "      <th>oranges</th>\n",
       "    </tr>\n",
       "  </thead>\n",
       "  <tbody>\n",
       "    <tr>\n",
       "      <th>0</th>\n",
       "      <td>3</td>\n",
       "      <td>0</td>\n",
       "    </tr>\n",
       "    <tr>\n",
       "      <th>1</th>\n",
       "      <td>2</td>\n",
       "      <td>3</td>\n",
       "    </tr>\n",
       "    <tr>\n",
       "      <th>2</th>\n",
       "      <td>0</td>\n",
       "      <td>7</td>\n",
       "    </tr>\n",
       "    <tr>\n",
       "      <th>3</th>\n",
       "      <td>1</td>\n",
       "      <td>2</td>\n",
       "    </tr>\n",
       "  </tbody>\n",
       "</table>\n",
       "</div>"
      ],
      "text/plain": [
       "   apples  oranges\n",
       "0       3        0\n",
       "1       2        3\n",
       "2       0        7\n",
       "3       1        2"
      ]
     },
     "execution_count": 3,
     "metadata": {},
     "output_type": "execute_result"
    }
   ],
   "source": [
    "purchases = pd.DataFrame(fruit)\n",
    "\n",
    "purchases"
   ]
  },
  {
   "cell_type": "markdown",
   "id": "e4f10ee7",
   "metadata": {},
   "source": [
    "**How did that work?**\n",
    "\n",
    "Each *(key, value)* item in `data` corresponds to a *column* in the resulting DataFrame.\n",
    "\n",
    "> the keys in this example are \"apples\" and \"oranges\", the values in this example are the numbers that go along with each key\n",
    "\n",
    "The **Index** of this DataFrame was numbered automatically, but we can also create our own when we initialize the DataFrame. \n",
    "\n",
    "Let's have customer names as our index: "
   ]
  },
  {
   "cell_type": "code",
   "execution_count": 4,
   "id": "e0e903d1",
   "metadata": {},
   "outputs": [
    {
     "data": {
      "text/html": [
       "<div>\n",
       "<style scoped>\n",
       "    .dataframe tbody tr th:only-of-type {\n",
       "        vertical-align: middle;\n",
       "    }\n",
       "\n",
       "    .dataframe tbody tr th {\n",
       "        vertical-align: top;\n",
       "    }\n",
       "\n",
       "    .dataframe thead th {\n",
       "        text-align: right;\n",
       "    }\n",
       "</style>\n",
       "<table border=\"1\" class=\"dataframe\">\n",
       "  <thead>\n",
       "    <tr style=\"text-align: right;\">\n",
       "      <th></th>\n",
       "      <th>apples</th>\n",
       "      <th>oranges</th>\n",
       "    </tr>\n",
       "  </thead>\n",
       "  <tbody>\n",
       "    <tr>\n",
       "      <th>June</th>\n",
       "      <td>3</td>\n",
       "      <td>0</td>\n",
       "    </tr>\n",
       "    <tr>\n",
       "      <th>Robert</th>\n",
       "      <td>2</td>\n",
       "      <td>3</td>\n",
       "    </tr>\n",
       "    <tr>\n",
       "      <th>Lily</th>\n",
       "      <td>0</td>\n",
       "      <td>7</td>\n",
       "    </tr>\n",
       "    <tr>\n",
       "      <th>David</th>\n",
       "      <td>1</td>\n",
       "      <td>2</td>\n",
       "    </tr>\n",
       "  </tbody>\n",
       "</table>\n",
       "</div>"
      ],
      "text/plain": [
       "        apples  oranges\n",
       "June         3        0\n",
       "Robert       2        3\n",
       "Lily         0        7\n",
       "David        1        2"
      ]
     },
     "execution_count": 4,
     "metadata": {},
     "output_type": "execute_result"
    }
   ],
   "source": [
    "purchases = pd.DataFrame(fruit, index=['June', 'Robert', 'Lily', 'David'])\n",
    "\n",
    "purchases"
   ]
  },
  {
   "cell_type": "markdown",
   "id": "810d26c7",
   "metadata": {},
   "source": [
    "So now we could **loc**ate a customer's order by using their name:"
   ]
  },
  {
   "cell_type": "code",
   "execution_count": 5,
   "id": "8ad4a5a3",
   "metadata": {},
   "outputs": [
    {
     "data": {
      "text/plain": [
       "apples     3\n",
       "oranges    0\n",
       "Name: June, dtype: int64"
      ]
     },
     "execution_count": 5,
     "metadata": {},
     "output_type": "execute_result"
    }
   ],
   "source": [
    "purchases.loc['June']"
   ]
  },
  {
   "cell_type": "markdown",
   "id": "18ff7c12",
   "metadata": {},
   "source": [
    "**Summary**\n",
    "\n",
    "The customer *June* purchased 3 apples and 0 oranges\n",
    "\n",
    "This may seem basic now, but imagine having more than 10,000 rows of data. This would bog down excel, whereas Pandas would be able to handle it like a champ"
   ]
  },
  {
   "cell_type": "markdown",
   "id": "dfe55e61",
   "metadata": {},
   "source": [
    "## Exercise\n",
    "\n",
    "**Try on your own**\n",
    "\n",
    "1. Create a dataframe of the top four countries in the infographic below. Include the income and income tax.\n",
    "\n",
    "2. Make the index the country name\n",
    "\n",
    "3. Locate the income and income tax for \"Iceland\"\n",
    "\n",
    "<img src=\"world_income.jpeg\" width=600px />\n"
   ]
  },
  {
   "cell_type": "markdown",
   "id": "10803e2e",
   "metadata": {},
   "source": [
    "_____________________________________________________"
   ]
  },
  {
   "cell_type": "markdown",
   "id": "6e98d649",
   "metadata": {},
   "source": [
    "## 3.0 How to read in data\n",
    "\n",
    "It’s quite simple to load data from various file formats into a DataFrame. In the following examples we'll keep using our apples and oranges data, but this time it's coming from various files."
   ]
  },
  {
   "cell_type": "code",
   "execution_count": 6,
   "id": "b56740f0",
   "metadata": {},
   "outputs": [
    {
     "data": {
      "text/html": [
       "<div>\n",
       "<style scoped>\n",
       "    .dataframe tbody tr th:only-of-type {\n",
       "        vertical-align: middle;\n",
       "    }\n",
       "\n",
       "    .dataframe tbody tr th {\n",
       "        vertical-align: top;\n",
       "    }\n",
       "\n",
       "    .dataframe thead th {\n",
       "        text-align: right;\n",
       "    }\n",
       "</style>\n",
       "<table border=\"1\" class=\"dataframe\">\n",
       "  <thead>\n",
       "    <tr style=\"text-align: right;\">\n",
       "      <th></th>\n",
       "      <th>Unnamed: 0</th>\n",
       "      <th>apples</th>\n",
       "      <th>oranges</th>\n",
       "    </tr>\n",
       "  </thead>\n",
       "  <tbody>\n",
       "    <tr>\n",
       "      <th>0</th>\n",
       "      <td>June</td>\n",
       "      <td>3</td>\n",
       "      <td>0</td>\n",
       "    </tr>\n",
       "    <tr>\n",
       "      <th>1</th>\n",
       "      <td>Robert</td>\n",
       "      <td>2</td>\n",
       "      <td>3</td>\n",
       "    </tr>\n",
       "    <tr>\n",
       "      <th>2</th>\n",
       "      <td>Lily</td>\n",
       "      <td>0</td>\n",
       "      <td>7</td>\n",
       "    </tr>\n",
       "    <tr>\n",
       "      <th>3</th>\n",
       "      <td>David</td>\n",
       "      <td>1</td>\n",
       "      <td>2</td>\n",
       "    </tr>\n",
       "  </tbody>\n",
       "</table>\n",
       "</div>"
      ],
      "text/plain": [
       "  Unnamed: 0  apples  oranges\n",
       "0       June       3        0\n",
       "1     Robert       2        3\n",
       "2       Lily       0        7\n",
       "3      David       1        2"
      ]
     },
     "execution_count": 6,
     "metadata": {},
     "output_type": "execute_result"
    }
   ],
   "source": [
    "df = pd.read_csv('purchases.csv')\n",
    "\n",
    "df"
   ]
  },
  {
   "cell_type": "markdown",
   "id": "b36c3a51",
   "metadata": {},
   "source": [
    "Notice the \"header\" has \"Unnamed: 0\" - This is because CSVs don't have indexes like our DataFrames, so all we need to do is just designate the `index_col` when reading:"
   ]
  },
  {
   "cell_type": "code",
   "execution_count": 7,
   "id": "89f85e7b",
   "metadata": {},
   "outputs": [
    {
     "data": {
      "text/html": [
       "<div>\n",
       "<style scoped>\n",
       "    .dataframe tbody tr th:only-of-type {\n",
       "        vertical-align: middle;\n",
       "    }\n",
       "\n",
       "    .dataframe tbody tr th {\n",
       "        vertical-align: top;\n",
       "    }\n",
       "\n",
       "    .dataframe thead th {\n",
       "        text-align: right;\n",
       "    }\n",
       "</style>\n",
       "<table border=\"1\" class=\"dataframe\">\n",
       "  <thead>\n",
       "    <tr style=\"text-align: right;\">\n",
       "      <th></th>\n",
       "      <th>apples</th>\n",
       "      <th>oranges</th>\n",
       "    </tr>\n",
       "  </thead>\n",
       "  <tbody>\n",
       "    <tr>\n",
       "      <th>June</th>\n",
       "      <td>3</td>\n",
       "      <td>0</td>\n",
       "    </tr>\n",
       "    <tr>\n",
       "      <th>Robert</th>\n",
       "      <td>2</td>\n",
       "      <td>3</td>\n",
       "    </tr>\n",
       "    <tr>\n",
       "      <th>Lily</th>\n",
       "      <td>0</td>\n",
       "      <td>7</td>\n",
       "    </tr>\n",
       "    <tr>\n",
       "      <th>David</th>\n",
       "      <td>1</td>\n",
       "      <td>2</td>\n",
       "    </tr>\n",
       "  </tbody>\n",
       "</table>\n",
       "</div>"
      ],
      "text/plain": [
       "        apples  oranges\n",
       "June         3        0\n",
       "Robert       2        3\n",
       "Lily         0        7\n",
       "David        1        2"
      ]
     },
     "execution_count": 7,
     "metadata": {},
     "output_type": "execute_result"
    }
   ],
   "source": [
    "df = pd.read_csv('purchases.csv', index_col=0)\n",
    "\n",
    "df"
   ]
  },
  {
   "cell_type": "markdown",
   "id": "30681573",
   "metadata": {},
   "source": [
    "### Converting back to a CSV\n",
    "\n",
    "If you make changes to your dataframe, you may want to save your work. Similar to the ways we read in data, pandas provides intuitive commands to save it:"
   ]
  },
  {
   "cell_type": "code",
   "execution_count": 8,
   "id": "cdb850be",
   "metadata": {},
   "outputs": [],
   "source": [
    "df.to_csv('new_purchases.csv')\n"
   ]
  },
  {
   "cell_type": "markdown",
   "id": "236fc241",
   "metadata": {},
   "source": [
    "You can check that the new file has been saved using the `ls` command, which will list all the files in the directory \"files\""
   ]
  },
  {
   "cell_type": "code",
   "execution_count": 9,
   "id": "2f6679d3",
   "metadata": {},
   "outputs": [
    {
     "name": "stdout",
     "output_type": "stream",
     "text": [
      "new_purchases.csv\r\n"
     ]
    }
   ],
   "source": [
    "ls new*"
   ]
  },
  {
   "cell_type": "markdown",
   "id": "40270154",
   "metadata": {},
   "source": [
    "__________________________________________"
   ]
  },
  {
   "cell_type": "markdown",
   "id": "4a185865",
   "metadata": {},
   "source": [
    "## 4.0 Using Pandas with Real World Data (Movie Catalogue Application)"
   ]
  },
  {
   "cell_type": "markdown",
   "id": "21128d2d",
   "metadata": {},
   "source": [
    "Let's move on to importing some real-world data and detailing a few of the most useful operations.\n",
    "\n",
    "\n",
    "### 4.1 Most important DataFrame operations\n",
    "\n",
    "DataFrames possess hundreds of methods and other operations that are crucial to any analysis. \n",
    "\n",
    "As a beginner, you should know the operations that perform simple transformations of your data and those that provide fundamental statistical analysis.\n",
    "\n",
    "Let's load in the IMDB movies dataset to begin:"
   ]
  },
  {
   "cell_type": "code",
   "execution_count": 10,
   "id": "78b17e39",
   "metadata": {},
   "outputs": [
    {
     "data": {
      "text/html": [
       "<div>\n",
       "<style scoped>\n",
       "    .dataframe tbody tr th:only-of-type {\n",
       "        vertical-align: middle;\n",
       "    }\n",
       "\n",
       "    .dataframe tbody tr th {\n",
       "        vertical-align: top;\n",
       "    }\n",
       "\n",
       "    .dataframe thead th {\n",
       "        text-align: right;\n",
       "    }\n",
       "</style>\n",
       "<table border=\"1\" class=\"dataframe\">\n",
       "  <thead>\n",
       "    <tr style=\"text-align: right;\">\n",
       "      <th></th>\n",
       "      <th>Rank</th>\n",
       "      <th>Genre</th>\n",
       "      <th>Description</th>\n",
       "      <th>Director</th>\n",
       "      <th>Actors</th>\n",
       "      <th>Year</th>\n",
       "      <th>Runtime (Minutes)</th>\n",
       "      <th>Rating</th>\n",
       "      <th>Votes</th>\n",
       "      <th>Revenue (Millions)</th>\n",
       "      <th>Metascore</th>\n",
       "    </tr>\n",
       "    <tr>\n",
       "      <th>Title</th>\n",
       "      <th></th>\n",
       "      <th></th>\n",
       "      <th></th>\n",
       "      <th></th>\n",
       "      <th></th>\n",
       "      <th></th>\n",
       "      <th></th>\n",
       "      <th></th>\n",
       "      <th></th>\n",
       "      <th></th>\n",
       "      <th></th>\n",
       "    </tr>\n",
       "  </thead>\n",
       "  <tbody>\n",
       "    <tr>\n",
       "      <th>Guardians of the Galaxy</th>\n",
       "      <td>1</td>\n",
       "      <td>Action,Adventure,Sci-Fi</td>\n",
       "      <td>A group of intergalactic criminals are forced ...</td>\n",
       "      <td>James Gunn</td>\n",
       "      <td>Chris Pratt, Vin Diesel, Bradley Cooper, Zoe S...</td>\n",
       "      <td>2014</td>\n",
       "      <td>121</td>\n",
       "      <td>8.1</td>\n",
       "      <td>757074</td>\n",
       "      <td>333.13</td>\n",
       "      <td>76.0</td>\n",
       "    </tr>\n",
       "    <tr>\n",
       "      <th>Prometheus</th>\n",
       "      <td>2</td>\n",
       "      <td>Adventure,Mystery,Sci-Fi</td>\n",
       "      <td>Following clues to the origin of mankind, a te...</td>\n",
       "      <td>Ridley Scott</td>\n",
       "      <td>Noomi Rapace, Logan Marshall-Green, Michael Fa...</td>\n",
       "      <td>2012</td>\n",
       "      <td>124</td>\n",
       "      <td>7.0</td>\n",
       "      <td>485820</td>\n",
       "      <td>126.46</td>\n",
       "      <td>65.0</td>\n",
       "    </tr>\n",
       "    <tr>\n",
       "      <th>Split</th>\n",
       "      <td>3</td>\n",
       "      <td>Horror,Thriller</td>\n",
       "      <td>Three girls are kidnapped by a man with a diag...</td>\n",
       "      <td>M. Night Shyamalan</td>\n",
       "      <td>James McAvoy, Anya Taylor-Joy, Haley Lu Richar...</td>\n",
       "      <td>2016</td>\n",
       "      <td>117</td>\n",
       "      <td>7.3</td>\n",
       "      <td>157606</td>\n",
       "      <td>138.12</td>\n",
       "      <td>62.0</td>\n",
       "    </tr>\n",
       "    <tr>\n",
       "      <th>Sing</th>\n",
       "      <td>4</td>\n",
       "      <td>Animation,Comedy,Family</td>\n",
       "      <td>In a city of humanoid animals, a hustling thea...</td>\n",
       "      <td>Christophe Lourdelet</td>\n",
       "      <td>Matthew McConaughey,Reese Witherspoon, Seth Ma...</td>\n",
       "      <td>2016</td>\n",
       "      <td>108</td>\n",
       "      <td>7.2</td>\n",
       "      <td>60545</td>\n",
       "      <td>270.32</td>\n",
       "      <td>59.0</td>\n",
       "    </tr>\n",
       "    <tr>\n",
       "      <th>Suicide Squad</th>\n",
       "      <td>5</td>\n",
       "      <td>Action,Adventure,Fantasy</td>\n",
       "      <td>A secret government agency recruits some of th...</td>\n",
       "      <td>David Ayer</td>\n",
       "      <td>Will Smith, Jared Leto, Margot Robbie, Viola D...</td>\n",
       "      <td>2016</td>\n",
       "      <td>123</td>\n",
       "      <td>6.2</td>\n",
       "      <td>393727</td>\n",
       "      <td>325.02</td>\n",
       "      <td>40.0</td>\n",
       "    </tr>\n",
       "  </tbody>\n",
       "</table>\n",
       "</div>"
      ],
      "text/plain": [
       "                         Rank                     Genre  \\\n",
       "Title                                                     \n",
       "Guardians of the Galaxy     1   Action,Adventure,Sci-Fi   \n",
       "Prometheus                  2  Adventure,Mystery,Sci-Fi   \n",
       "Split                       3           Horror,Thriller   \n",
       "Sing                        4   Animation,Comedy,Family   \n",
       "Suicide Squad               5  Action,Adventure,Fantasy   \n",
       "\n",
       "                                                               Description  \\\n",
       "Title                                                                        \n",
       "Guardians of the Galaxy  A group of intergalactic criminals are forced ...   \n",
       "Prometheus               Following clues to the origin of mankind, a te...   \n",
       "Split                    Three girls are kidnapped by a man with a diag...   \n",
       "Sing                     In a city of humanoid animals, a hustling thea...   \n",
       "Suicide Squad            A secret government agency recruits some of th...   \n",
       "\n",
       "                                     Director  \\\n",
       "Title                                           \n",
       "Guardians of the Galaxy            James Gunn   \n",
       "Prometheus                       Ridley Scott   \n",
       "Split                      M. Night Shyamalan   \n",
       "Sing                     Christophe Lourdelet   \n",
       "Suicide Squad                      David Ayer   \n",
       "\n",
       "                                                                    Actors  \\\n",
       "Title                                                                        \n",
       "Guardians of the Galaxy  Chris Pratt, Vin Diesel, Bradley Cooper, Zoe S...   \n",
       "Prometheus               Noomi Rapace, Logan Marshall-Green, Michael Fa...   \n",
       "Split                    James McAvoy, Anya Taylor-Joy, Haley Lu Richar...   \n",
       "Sing                     Matthew McConaughey,Reese Witherspoon, Seth Ma...   \n",
       "Suicide Squad            Will Smith, Jared Leto, Margot Robbie, Viola D...   \n",
       "\n",
       "                         Year  Runtime (Minutes)  Rating   Votes  \\\n",
       "Title                                                              \n",
       "Guardians of the Galaxy  2014                121     8.1  757074   \n",
       "Prometheus               2012                124     7.0  485820   \n",
       "Split                    2016                117     7.3  157606   \n",
       "Sing                     2016                108     7.2   60545   \n",
       "Suicide Squad            2016                123     6.2  393727   \n",
       "\n",
       "                         Revenue (Millions)  Metascore  \n",
       "Title                                                   \n",
       "Guardians of the Galaxy              333.13       76.0  \n",
       "Prometheus                           126.46       65.0  \n",
       "Split                                138.12       62.0  \n",
       "Sing                                 270.32       59.0  \n",
       "Suicide Squad                        325.02       40.0  "
      ]
     },
     "execution_count": 10,
     "metadata": {},
     "output_type": "execute_result"
    }
   ],
   "source": [
    "movies_df = pd.read_csv(\"IMDB-Movie-Data.csv\", index_col=\"Title\")\n",
    "\n",
    "movies_df.head()"
   ]
  },
  {
   "cell_type": "markdown",
   "id": "1c416e10",
   "metadata": {},
   "source": [
    "Note a few things here: \n",
    "\n",
    "> We're loading this dataset from a CSV and designating the movie titles to be our index.\n",
    "\n",
    "> We use the `df.head()` command to load the first 5 rows of the dataset"
   ]
  },
  {
   "cell_type": "markdown",
   "id": "cb872599",
   "metadata": {},
   "source": [
    "`.head()` outputs the **first** five rows of your DataFrame by default, but we could also pass a number as well: `movies_df.head(10)` would output the top ten rows, for example. \n",
    "\n",
    "To see the **last** five rows use `.tail()`. `tail()` also accepts a number, and in this case we printing the bottom two rows.:"
   ]
  },
  {
   "cell_type": "code",
   "execution_count": 11,
   "id": "42afe644",
   "metadata": {},
   "outputs": [
    {
     "data": {
      "text/html": [
       "<div>\n",
       "<style scoped>\n",
       "    .dataframe tbody tr th:only-of-type {\n",
       "        vertical-align: middle;\n",
       "    }\n",
       "\n",
       "    .dataframe tbody tr th {\n",
       "        vertical-align: top;\n",
       "    }\n",
       "\n",
       "    .dataframe thead th {\n",
       "        text-align: right;\n",
       "    }\n",
       "</style>\n",
       "<table border=\"1\" class=\"dataframe\">\n",
       "  <thead>\n",
       "    <tr style=\"text-align: right;\">\n",
       "      <th></th>\n",
       "      <th>Rank</th>\n",
       "      <th>Genre</th>\n",
       "      <th>Description</th>\n",
       "      <th>Director</th>\n",
       "      <th>Actors</th>\n",
       "      <th>Year</th>\n",
       "      <th>Runtime (Minutes)</th>\n",
       "      <th>Rating</th>\n",
       "      <th>Votes</th>\n",
       "      <th>Revenue (Millions)</th>\n",
       "      <th>Metascore</th>\n",
       "    </tr>\n",
       "    <tr>\n",
       "      <th>Title</th>\n",
       "      <th></th>\n",
       "      <th></th>\n",
       "      <th></th>\n",
       "      <th></th>\n",
       "      <th></th>\n",
       "      <th></th>\n",
       "      <th></th>\n",
       "      <th></th>\n",
       "      <th></th>\n",
       "      <th></th>\n",
       "      <th></th>\n",
       "    </tr>\n",
       "  </thead>\n",
       "  <tbody>\n",
       "    <tr>\n",
       "      <th>Search Party</th>\n",
       "      <td>999</td>\n",
       "      <td>Adventure,Comedy</td>\n",
       "      <td>A pair of friends embark on a mission to reuni...</td>\n",
       "      <td>Scot Armstrong</td>\n",
       "      <td>Adam Pally, T.J. Miller, Thomas Middleditch,Sh...</td>\n",
       "      <td>2014</td>\n",
       "      <td>93</td>\n",
       "      <td>5.6</td>\n",
       "      <td>4881</td>\n",
       "      <td>NaN</td>\n",
       "      <td>22.0</td>\n",
       "    </tr>\n",
       "    <tr>\n",
       "      <th>Nine Lives</th>\n",
       "      <td>1000</td>\n",
       "      <td>Comedy,Family,Fantasy</td>\n",
       "      <td>A stuffy businessman finds himself trapped ins...</td>\n",
       "      <td>Barry Sonnenfeld</td>\n",
       "      <td>Kevin Spacey, Jennifer Garner, Robbie Amell,Ch...</td>\n",
       "      <td>2016</td>\n",
       "      <td>87</td>\n",
       "      <td>5.3</td>\n",
       "      <td>12435</td>\n",
       "      <td>19.64</td>\n",
       "      <td>11.0</td>\n",
       "    </tr>\n",
       "  </tbody>\n",
       "</table>\n",
       "</div>"
      ],
      "text/plain": [
       "              Rank                  Genre  \\\n",
       "Title                                       \n",
       "Search Party   999       Adventure,Comedy   \n",
       "Nine Lives    1000  Comedy,Family,Fantasy   \n",
       "\n",
       "                                                    Description  \\\n",
       "Title                                                             \n",
       "Search Party  A pair of friends embark on a mission to reuni...   \n",
       "Nine Lives    A stuffy businessman finds himself trapped ins...   \n",
       "\n",
       "                      Director  \\\n",
       "Title                            \n",
       "Search Party    Scot Armstrong   \n",
       "Nine Lives    Barry Sonnenfeld   \n",
       "\n",
       "                                                         Actors  Year  \\\n",
       "Title                                                                   \n",
       "Search Party  Adam Pally, T.J. Miller, Thomas Middleditch,Sh...  2014   \n",
       "Nine Lives    Kevin Spacey, Jennifer Garner, Robbie Amell,Ch...  2016   \n",
       "\n",
       "              Runtime (Minutes)  Rating  Votes  Revenue (Millions)  Metascore  \n",
       "Title                                                                          \n",
       "Search Party                 93     5.6   4881                 NaN       22.0  \n",
       "Nine Lives                   87     5.3  12435               19.64       11.0  "
      ]
     },
     "execution_count": 11,
     "metadata": {},
     "output_type": "execute_result"
    }
   ],
   "source": [
    "movies_df.tail(2)"
   ]
  },
  {
   "cell_type": "markdown",
   "id": "7a7f255c",
   "metadata": {},
   "source": [
    "## Exercise\n",
    "\n",
    "**Try on your own**\n",
    "\n",
    "1. Locate the 100th ranked movie, what is the title?\n"
   ]
  },
  {
   "cell_type": "markdown",
   "id": "34b80234",
   "metadata": {},
   "source": [
    "### 4.2 Getting info about your data\n",
    "\n",
    "`.shape` is a simple tuple of format (rows, columns). \n",
    "\n",
    "So we have **1000 rows** and **11 columns** in our movies DataFrame.\n",
    "\n",
    "`.shape` is very useful when cleaning and transforming data. For example, you might filter some rows based on some criteria and then want to know quickly how many rows were removed."
   ]
  },
  {
   "cell_type": "code",
   "execution_count": 12,
   "id": "43796e78",
   "metadata": {},
   "outputs": [
    {
     "data": {
      "text/plain": [
       "(1000, 11)"
      ]
     },
     "execution_count": 12,
     "metadata": {},
     "output_type": "execute_result"
    }
   ],
   "source": [
    "movies_df.shape"
   ]
  },
  {
   "cell_type": "markdown",
   "id": "68bd8d0b",
   "metadata": {},
   "source": [
    "### What if there are duplicates in my dataframe?\n",
    "\n",
    "Sometimes, you are working with messy data, where there may be duplicates and you want to remove these rows in order to get more acurate statistics\n",
    "\n",
    "The movie dataset does not have any duplicates, you can figure this out with the following command:\n"
   ]
  },
  {
   "cell_type": "code",
   "execution_count": 13,
   "id": "048b3d16",
   "metadata": {},
   "outputs": [
    {
     "data": {
      "text/plain": [
       "(1000, 11)"
      ]
     },
     "execution_count": 13,
     "metadata": {},
     "output_type": "execute_result"
    }
   ],
   "source": [
    "temp_df = movies_df.drop_duplicates()\n",
    "temp_df.shape"
   ]
  },
  {
   "cell_type": "markdown",
   "id": "52e4eac1",
   "metadata": {},
   "source": [
    "Here, I made a new dataframe *temp_df* in which I set equal to the *movies_df* dataframe, but I used the command `drop_duplicates()` which tells pandas to look for any duplicate rows and remove them. \n",
    "\n",
    "You can see that there are no duplicate rows in the original dataframe, because when I type `temp_df.shape` it retains the same number of colums and rows as the original. "
   ]
  },
  {
   "cell_type": "markdown",
   "id": "3361df2d",
   "metadata": {},
   "source": [
    "Now let's create a scenario where we **do** have duplicates, by copying the original movie dataframe twice: "
   ]
  },
  {
   "cell_type": "code",
   "execution_count": 14,
   "id": "35e86968",
   "metadata": {},
   "outputs": [
    {
     "data": {
      "text/plain": [
       "(2000, 11)"
      ]
     },
     "execution_count": 14,
     "metadata": {},
     "output_type": "execute_result"
    }
   ],
   "source": [
    "temp_df = movies_df.append(movies_df)\n",
    "\n",
    "temp_df.shape"
   ]
  },
  {
   "cell_type": "markdown",
   "id": "18bb423d",
   "metadata": {},
   "source": [
    "Note:\n",
    "\n",
    "> Using `append()` will return a copy without affecting the original DataFrame \n",
    "\n",
    "> We don't change our original dataset *movies_df* because we are creating a new dataframe, *temp_df*\n",
    "\n",
    "> Notice call `.shape` quickly proves our DataFrame rows have doubled.\n",
    "\n",
    "Now we try dropping duplicates on your own:"
   ]
  },
  {
   "cell_type": "markdown",
   "id": "bdc20f0f",
   "metadata": {},
   "source": [
    "## Exercise\n",
    "\n",
    "**Try on your own**\n",
    "\n",
    "1. Remove the duplicates from the new *temp_df*\n",
    "2. Verify that you have removed the duplicates\n"
   ]
  },
  {
   "cell_type": "markdown",
   "id": "1f33081c",
   "metadata": {},
   "source": [
    "### 4.3 Working with Columns\n",
    "\n",
    "Many times datasets will have verbose column names with symbols, upper and lowercase words, spaces, and typos. \n",
    "\n",
    "To make selecting data by column name easier we can spend a little time cleaning up their names.\n",
    "\n",
    "Here's how to print the column names of our dataset:"
   ]
  },
  {
   "cell_type": "code",
   "execution_count": 15,
   "id": "200c30dd",
   "metadata": {},
   "outputs": [
    {
     "data": {
      "text/plain": [
       "Index(['Rank', 'Genre', 'Description', 'Director', 'Actors', 'Year',\n",
       "       'Runtime (Minutes)', 'Rating', 'Votes', 'Revenue (Millions)',\n",
       "       'Metascore'],\n",
       "      dtype='object')"
      ]
     },
     "execution_count": 15,
     "metadata": {},
     "output_type": "execute_result"
    }
   ],
   "source": [
    "movies_df.columns"
   ]
  },
  {
   "cell_type": "markdown",
   "id": "76355fc1",
   "metadata": {},
   "source": [
    "Let's try renaming some of the columns\n",
    "\n",
    "We can use the `.rename()` method to rename certain or all columns via a `dict`. \n",
    "\n",
    "We don't want parentheses, so let's rename those:"
   ]
  },
  {
   "cell_type": "code",
   "execution_count": 16,
   "id": "728e27e1",
   "metadata": {},
   "outputs": [
    {
     "data": {
      "text/plain": [
       "Index(['Rank', 'Genre', 'Description', 'Director', 'Actors', 'Year', 'Runtime',\n",
       "       'Rating', 'Votes', 'Revenue_millions', 'Metascore'],\n",
       "      dtype='object')"
      ]
     },
     "execution_count": 16,
     "metadata": {},
     "output_type": "execute_result"
    }
   ],
   "source": [
    "movies_df.rename(columns={\n",
    "        'Runtime (Minutes)': 'Runtime', \n",
    "        'Revenue (Millions)': 'Revenue_millions'\n",
    "    }, inplace=True)\n",
    "\n",
    "\n",
    "movies_df.columns"
   ]
  },
  {
   "cell_type": "markdown",
   "id": "9a3d563d",
   "metadata": {},
   "source": [
    "Excellent. But what if we want to lowercase all names? Instead of using `.rename()` we could also set a list of names to the columns like so:"
   ]
  },
  {
   "cell_type": "code",
   "execution_count": 17,
   "id": "0120b2a5",
   "metadata": {},
   "outputs": [
    {
     "data": {
      "text/plain": [
       "Index(['rank', 'genre', 'description', 'director', 'actors', 'year', 'runtime',\n",
       "       'rating', 'votes', 'revenue_millions', 'metascore'],\n",
       "      dtype='object')"
      ]
     },
     "execution_count": 17,
     "metadata": {},
     "output_type": "execute_result"
    }
   ],
   "source": [
    "movies_df.columns = ['rank', 'genre', 'description', 'director', 'actors', 'year', 'runtime', \n",
    "                     'rating', 'votes', 'revenue_millions', 'metascore']\n",
    "\n",
    "\n",
    "movies_df.columns"
   ]
  },
  {
   "cell_type": "markdown",
   "id": "19523f5a",
   "metadata": {},
   "source": [
    "But that's too much work. Instead of just renaming each column manually we can do a list comprehension:"
   ]
  },
  {
   "cell_type": "code",
   "execution_count": 18,
   "id": "afacb978",
   "metadata": {},
   "outputs": [
    {
     "data": {
      "text/plain": [
       "Index(['rank', 'genre', 'description', 'director', 'actors', 'year', 'runtime',\n",
       "       'rating', 'votes', 'revenue_millions', 'metascore'],\n",
       "      dtype='object')"
      ]
     },
     "execution_count": 18,
     "metadata": {},
     "output_type": "execute_result"
    }
   ],
   "source": [
    "movies_df.columns = [col.lower() for col in movies_df]\n",
    "\n",
    "movies_df.columns"
   ]
  },
  {
   "cell_type": "markdown",
   "id": "06e41b97",
   "metadata": {},
   "source": [
    "In the above example, we created our first code in pandas to transform our data, lets break it down:\n",
    "    \n",
    "> We used a list, which is given by the two brackets *[...]*\n",
    "\n",
    "> We used a *for* loop, that looped over all columns (called *col*) in the original DataFrame\n",
    "\n",
    "> For each *col* that we loop over, we changed it to lower case using `col.lower()`"
   ]
  },
  {
   "cell_type": "markdown",
   "id": "25464e3c",
   "metadata": {},
   "source": [
    "`list` (and `dict`) comprehensions come in handy a lot when working with pandas and data in general.\n",
    "\n",
    "It's a good idea to lowercase, remove special characters, and replace spaces with underscores if you'll be working with a dataset for some time."
   ]
  },
  {
   "cell_type": "markdown",
   "id": "32b4a012",
   "metadata": {},
   "source": [
    "## Exercise\n",
    "\n",
    "**Try on your own**\n",
    "\n",
    "1. Can you figure out how to change each column to upper case?\n",
    "\n"
   ]
  },
  {
   "cell_type": "markdown",
   "id": "a266a92a",
   "metadata": {},
   "source": [
    "### 4.4 Understanding your DataFrame variables"
   ]
  },
  {
   "cell_type": "code",
   "execution_count": 19,
   "id": "9a5dc672",
   "metadata": {},
   "outputs": [
    {
     "data": {
      "text/plain": [
       "count                        1000\n",
       "unique                        207\n",
       "top       Action,Adventure,Sci-Fi\n",
       "freq                           50\n",
       "Name: genre, dtype: object"
      ]
     },
     "execution_count": 19,
     "metadata": {},
     "output_type": "execute_result"
    }
   ],
   "source": [
    "movies_df['genre'].describe()"
   ]
  },
  {
   "cell_type": "markdown",
   "id": "3e50e898",
   "metadata": {},
   "source": [
    "This tells us that the genre column has 207 unique values, the top value is Action/Adventure/Sci-Fi, which shows up 50 times (freq).\n",
    "\n",
    "`.value_counts()` can tell us the frequency of all values in a column:"
   ]
  },
  {
   "cell_type": "code",
   "execution_count": 20,
   "id": "ce1e9656",
   "metadata": {},
   "outputs": [
    {
     "data": {
      "text/plain": [
       "Action,Adventure,Sci-Fi       50\n",
       "Drama                         48\n",
       "Comedy,Drama,Romance          35\n",
       "Comedy                        32\n",
       "Drama,Romance                 31\n",
       "Action,Adventure,Fantasy      27\n",
       "Comedy,Drama                  27\n",
       "Animation,Adventure,Comedy    27\n",
       "Comedy,Romance                26\n",
       "Crime,Drama,Thriller          24\n",
       "Name: genre, dtype: int64"
      ]
     },
     "execution_count": 20,
     "metadata": {},
     "output_type": "execute_result"
    }
   ],
   "source": [
    "movies_df['genre'].value_counts().head(10)"
   ]
  },
  {
   "cell_type": "markdown",
   "id": "7d8b40eb",
   "metadata": {},
   "source": [
    "## Exercise\n",
    "\n",
    "**Try on your own**\n",
    "\n",
    "1. What year produced the most movies?\n",
    "\n"
   ]
  },
  {
   "cell_type": "markdown",
   "id": "be27c097",
   "metadata": {},
   "source": [
    "### 4.5 Simple DataFrame Statistics & Plotting"
   ]
  },
  {
   "cell_type": "markdown",
   "id": "083f6177",
   "metadata": {},
   "source": [
    "#### Relationships between continuous variables"
   ]
  },
  {
   "cell_type": "markdown",
   "id": "e2dd2c08",
   "metadata": {},
   "source": [
    "By using the correlation method `.corr()` we can generate the relationship between each continuous variable:"
   ]
  },
  {
   "cell_type": "code",
   "execution_count": 21,
   "id": "c0820a54",
   "metadata": {},
   "outputs": [
    {
     "data": {
      "text/html": [
       "<div>\n",
       "<style scoped>\n",
       "    .dataframe tbody tr th:only-of-type {\n",
       "        vertical-align: middle;\n",
       "    }\n",
       "\n",
       "    .dataframe tbody tr th {\n",
       "        vertical-align: top;\n",
       "    }\n",
       "\n",
       "    .dataframe thead th {\n",
       "        text-align: right;\n",
       "    }\n",
       "</style>\n",
       "<table border=\"1\" class=\"dataframe\">\n",
       "  <thead>\n",
       "    <tr style=\"text-align: right;\">\n",
       "      <th></th>\n",
       "      <th>rank</th>\n",
       "      <th>year</th>\n",
       "      <th>runtime</th>\n",
       "      <th>rating</th>\n",
       "      <th>votes</th>\n",
       "      <th>revenue_millions</th>\n",
       "      <th>metascore</th>\n",
       "    </tr>\n",
       "  </thead>\n",
       "  <tbody>\n",
       "    <tr>\n",
       "      <th>rank</th>\n",
       "      <td>1.000000</td>\n",
       "      <td>-0.261605</td>\n",
       "      <td>-0.221739</td>\n",
       "      <td>-0.219555</td>\n",
       "      <td>-0.283876</td>\n",
       "      <td>-0.271592</td>\n",
       "      <td>-0.191869</td>\n",
       "    </tr>\n",
       "    <tr>\n",
       "      <th>year</th>\n",
       "      <td>-0.261605</td>\n",
       "      <td>1.000000</td>\n",
       "      <td>-0.164900</td>\n",
       "      <td>-0.211219</td>\n",
       "      <td>-0.411904</td>\n",
       "      <td>-0.126790</td>\n",
       "      <td>-0.079305</td>\n",
       "    </tr>\n",
       "    <tr>\n",
       "      <th>runtime</th>\n",
       "      <td>-0.221739</td>\n",
       "      <td>-0.164900</td>\n",
       "      <td>1.000000</td>\n",
       "      <td>0.392214</td>\n",
       "      <td>0.407062</td>\n",
       "      <td>0.267953</td>\n",
       "      <td>0.211978</td>\n",
       "    </tr>\n",
       "    <tr>\n",
       "      <th>rating</th>\n",
       "      <td>-0.219555</td>\n",
       "      <td>-0.211219</td>\n",
       "      <td>0.392214</td>\n",
       "      <td>1.000000</td>\n",
       "      <td>0.511537</td>\n",
       "      <td>0.217654</td>\n",
       "      <td>0.631897</td>\n",
       "    </tr>\n",
       "    <tr>\n",
       "      <th>votes</th>\n",
       "      <td>-0.283876</td>\n",
       "      <td>-0.411904</td>\n",
       "      <td>0.407062</td>\n",
       "      <td>0.511537</td>\n",
       "      <td>1.000000</td>\n",
       "      <td>0.639661</td>\n",
       "      <td>0.325684</td>\n",
       "    </tr>\n",
       "    <tr>\n",
       "      <th>revenue_millions</th>\n",
       "      <td>-0.271592</td>\n",
       "      <td>-0.126790</td>\n",
       "      <td>0.267953</td>\n",
       "      <td>0.217654</td>\n",
       "      <td>0.639661</td>\n",
       "      <td>1.000000</td>\n",
       "      <td>0.142397</td>\n",
       "    </tr>\n",
       "    <tr>\n",
       "      <th>metascore</th>\n",
       "      <td>-0.191869</td>\n",
       "      <td>-0.079305</td>\n",
       "      <td>0.211978</td>\n",
       "      <td>0.631897</td>\n",
       "      <td>0.325684</td>\n",
       "      <td>0.142397</td>\n",
       "      <td>1.000000</td>\n",
       "    </tr>\n",
       "  </tbody>\n",
       "</table>\n",
       "</div>"
      ],
      "text/plain": [
       "                      rank      year   runtime    rating     votes  \\\n",
       "rank              1.000000 -0.261605 -0.221739 -0.219555 -0.283876   \n",
       "year             -0.261605  1.000000 -0.164900 -0.211219 -0.411904   \n",
       "runtime          -0.221739 -0.164900  1.000000  0.392214  0.407062   \n",
       "rating           -0.219555 -0.211219  0.392214  1.000000  0.511537   \n",
       "votes            -0.283876 -0.411904  0.407062  0.511537  1.000000   \n",
       "revenue_millions -0.271592 -0.126790  0.267953  0.217654  0.639661   \n",
       "metascore        -0.191869 -0.079305  0.211978  0.631897  0.325684   \n",
       "\n",
       "                  revenue_millions  metascore  \n",
       "rank                     -0.271592  -0.191869  \n",
       "year                     -0.126790  -0.079305  \n",
       "runtime                   0.267953   0.211978  \n",
       "rating                    0.217654   0.631897  \n",
       "votes                     0.639661   0.325684  \n",
       "revenue_millions          1.000000   0.142397  \n",
       "metascore                 0.142397   1.000000  "
      ]
     },
     "execution_count": 21,
     "metadata": {},
     "output_type": "execute_result"
    }
   ],
   "source": [
    "movies_df.corr()"
   ]
  },
  {
   "cell_type": "markdown",
   "id": "bc708c50",
   "metadata": {},
   "source": [
    "Correlation tables are a numerical representation of the bivariate relationships in the dataset. \n",
    "\n",
    "Positive numbers indicate a positive correlation — one goes up the other goes up — and negative numbers represent an inverse correlation — one goes up the other goes down. 1.0 indicates a perfect correlation. \n",
    "\n",
    "> So looking in the first row, first column we see `rank` has a perfect correlation with itself, which is obvious. \n",
    "\n",
    "> On the other hand, the correlation between `votes` and `revenue_millions` is 0.6. A little more interesting.\n"
   ]
  },
  {
   "cell_type": "markdown",
   "id": "3c6cb73a",
   "metadata": {},
   "source": [
    "-"
   ]
  },
  {
   "cell_type": "markdown",
   "id": "ef3b2307",
   "metadata": {},
   "source": [
    "Understanding your data comes in handy when thinking about the type of plot to use to represent your data visually. \n",
    "\n",
    "`.describe()` can be used to get the count of rows, unique count of categories, top category, and freq of top category:"
   ]
  },
  {
   "cell_type": "code",
   "execution_count": 22,
   "id": "59c7bc08",
   "metadata": {},
   "outputs": [
    {
     "data": {
      "text/plain": [
       "count    1000.000000\n",
       "mean        6.723200\n",
       "std         0.945429\n",
       "min         1.900000\n",
       "25%         6.200000\n",
       "50%         6.800000\n",
       "75%         7.400000\n",
       "max         9.000000\n",
       "Name: rating, dtype: float64"
      ]
     },
     "execution_count": 22,
     "metadata": {},
     "output_type": "execute_result"
    }
   ],
   "source": [
    "movies_df['rating'].describe()"
   ]
  },
  {
   "cell_type": "markdown",
   "id": "7f4cc11b",
   "metadata": {},
   "source": [
    "Let's try plotting our data to visually inspect the relationships:"
   ]
  },
  {
   "cell_type": "code",
   "execution_count": 23,
   "id": "bc6ba789",
   "metadata": {},
   "outputs": [],
   "source": [
    "import matplotlib.pyplot as plt\n",
    "plt.rcParams.update({'font.size': 12, 'figure.figsize': (5, 3)}) # set font and plot size to be larger"
   ]
  },
  {
   "cell_type": "markdown",
   "id": "e22c6e2a",
   "metadata": {},
   "source": [
    "**Side note:**\n",
    "\n",
    "For *categorical variables* utilize Bar Charts* and Boxplots.  \n",
    "\n",
    "For *continuous variables* utilize Histograms, Scatterplots, Line graphs, and Boxplots.\n",
    "\n",
    "Let's plot the relationship between **ratings** and **revenue**. \n",
    "\n",
    "All we need to do is call `.plot()` on `movies_df` with some info about how to construct the plot:"
   ]
  },
  {
   "cell_type": "code",
   "execution_count": 24,
   "id": "7e65e37d",
   "metadata": {},
   "outputs": [
    {
     "data": {
      "image/png": "[encoded data removed]",
      "text/plain": [
       "<Figure size 360x216 with 1 Axes>"
      ]
     },
     "metadata": {
      "needs_background": "light"
     },
     "output_type": "display_data"
    }
   ],
   "source": [
    "movies_df.plot(kind='scatter', x='rating', y='revenue_millions', title='Revenue (millions) vs Rating');"
   ]
  },
  {
   "cell_type": "markdown",
   "id": "980645b6",
   "metadata": {},
   "source": [
    "If we want to plot a simple Histogram based on a single column, we can call plot on a column:"
   ]
  },
  {
   "cell_type": "code",
   "execution_count": 25,
   "id": "4e71c46d",
   "metadata": {},
   "outputs": [
    {
     "data": {
      "image/png": "[encoded data removed]",
      "text/plain": [
       "<Figure size 360x216 with 1 Axes>"
      ]
     },
     "metadata": {
      "needs_background": "light"
     },
     "output_type": "display_data"
    }
   ],
   "source": [
    "movies_df['rating'].plot(kind='hist', title='Rating');"
   ]
  },
  {
   "cell_type": "markdown",
   "id": "0698ee69",
   "metadata": {},
   "source": [
    "Using a Boxplot we can visualize this data:"
   ]
  },
  {
   "cell_type": "code",
   "execution_count": 26,
   "id": "0946bb0b",
   "metadata": {},
   "outputs": [
    {
     "data": {
      "image/png": "[encoded data removed]",
      "text/plain": [
       "<Figure size 360x216 with 1 Axes>"
      ]
     },
     "metadata": {
      "needs_background": "light"
     },
     "output_type": "display_data"
    }
   ],
   "source": [
    "movies_df['rating'].plot(kind=\"box\");"
   ]
  },
  {
   "cell_type": "markdown",
   "id": "e6b43bb7",
   "metadata": {},
   "source": [
    "<figure>\n",
    "<img src=\"https://i1.wp.com/flowingdata.com/wp-content/uploads/2008/02/box-plot-explained.gif\" />\n",
    "    <figcaption>Source: *Flowing Data*</figcaption>\n",
    "</figure>\n"
   ]
  },
  {
   "cell_type": "markdown",
   "id": "027ec432",
   "metadata": {},
   "source": [
    "## Exercise\n",
    "\n",
    "**Try on your own**\n",
    "\n",
    "1. Plot a boxplot for revenues across all movies\n",
    "\n"
   ]
  },
  {
   "cell_type": "markdown",
   "id": "c5e666ec",
   "metadata": {},
   "source": [
    "### 4.6 Manipulating DataFrames"
   ]
  },
  {
   "cell_type": "markdown",
   "id": "15978bc3",
   "metadata": {},
   "source": [
    "#### DataFrame slicing, selecting, extracting\n",
    "\n",
    "Up until now we've focused on some basic summaries of our data. We've learned about simple column extraction using single brackets, and we done simple statistics and plotting. \n",
    "\n",
    "Below are the other methods of slicing, selecting, and extracting you'll need to use constantly. \n",
    "\n",
    "Let's look at working with columns first."
   ]
  },
  {
   "cell_type": "markdown",
   "id": "ca5c39c6",
   "metadata": {},
   "source": [
    "##### Extracting data by column\n",
    "\n",
    "Extract a column using square brackets like this:"
   ]
  },
  {
   "cell_type": "code",
   "execution_count": 27,
   "id": "83303396",
   "metadata": {},
   "outputs": [
    {
     "data": {
      "text/plain": [
       "pandas.core.series.Series"
      ]
     },
     "execution_count": 27,
     "metadata": {},
     "output_type": "execute_result"
    }
   ],
   "source": [
    "genre_col = movies_df['genre']\n",
    "\n",
    "type(genre_col)"
   ]
  },
  {
   "cell_type": "markdown",
   "id": "1f7517a3",
   "metadata": {},
   "source": [
    "Note: \n",
    "\n",
    "> one column of a *DataFrame* is a *Series*"
   ]
  },
  {
   "cell_type": "markdown",
   "id": "1aa4840b",
   "metadata": {},
   "source": [
    "If you don't want a *Series*, you can extract a column as a *DataFrame* by passing a list of column names. \n",
    "\n",
    "In our case that's just a single column:"
   ]
  },
  {
   "cell_type": "code",
   "execution_count": 28,
   "id": "acc97d0e",
   "metadata": {},
   "outputs": [
    {
     "data": {
      "text/plain": [
       "pandas.core.frame.DataFrame"
      ]
     },
     "execution_count": 28,
     "metadata": {},
     "output_type": "execute_result"
    }
   ],
   "source": [
    "genre_col = movies_df[['genre']]\n",
    "\n",
    "type(genre_col)"
   ]
  },
  {
   "cell_type": "markdown",
   "id": "7cabaef6",
   "metadata": {},
   "source": [
    "You can extract two columns from the original dataframe like this: \n",
    "    "
   ]
  },
  {
   "cell_type": "code",
   "execution_count": 29,
   "id": "314340f4",
   "metadata": {},
   "outputs": [
    {
     "data": {
      "text/html": [
       "<div>\n",
       "<style scoped>\n",
       "    .dataframe tbody tr th:only-of-type {\n",
       "        vertical-align: middle;\n",
       "    }\n",
       "\n",
       "    .dataframe tbody tr th {\n",
       "        vertical-align: top;\n",
       "    }\n",
       "\n",
       "    .dataframe thead th {\n",
       "        text-align: right;\n",
       "    }\n",
       "</style>\n",
       "<table border=\"1\" class=\"dataframe\">\n",
       "  <thead>\n",
       "    <tr style=\"text-align: right;\">\n",
       "      <th></th>\n",
       "      <th>genre</th>\n",
       "      <th>rating</th>\n",
       "    </tr>\n",
       "    <tr>\n",
       "      <th>Title</th>\n",
       "      <th></th>\n",
       "      <th></th>\n",
       "    </tr>\n",
       "  </thead>\n",
       "  <tbody>\n",
       "    <tr>\n",
       "      <th>Guardians of the Galaxy</th>\n",
       "      <td>Action,Adventure,Sci-Fi</td>\n",
       "      <td>8.1</td>\n",
       "    </tr>\n",
       "    <tr>\n",
       "      <th>Prometheus</th>\n",
       "      <td>Adventure,Mystery,Sci-Fi</td>\n",
       "      <td>7.0</td>\n",
       "    </tr>\n",
       "    <tr>\n",
       "      <th>Split</th>\n",
       "      <td>Horror,Thriller</td>\n",
       "      <td>7.3</td>\n",
       "    </tr>\n",
       "    <tr>\n",
       "      <th>Sing</th>\n",
       "      <td>Animation,Comedy,Family</td>\n",
       "      <td>7.2</td>\n",
       "    </tr>\n",
       "    <tr>\n",
       "      <th>Suicide Squad</th>\n",
       "      <td>Action,Adventure,Fantasy</td>\n",
       "      <td>6.2</td>\n",
       "    </tr>\n",
       "  </tbody>\n",
       "</table>\n",
       "</div>"
      ],
      "text/plain": [
       "                                            genre  rating\n",
       "Title                                                    \n",
       "Guardians of the Galaxy   Action,Adventure,Sci-Fi     8.1\n",
       "Prometheus               Adventure,Mystery,Sci-Fi     7.0\n",
       "Split                             Horror,Thriller     7.3\n",
       "Sing                      Animation,Comedy,Family     7.2\n",
       "Suicide Squad            Action,Adventure,Fantasy     6.2"
      ]
     },
     "execution_count": 29,
     "metadata": {},
     "output_type": "execute_result"
    }
   ],
   "source": [
    "subset = movies_df[['genre', 'rating']]\n",
    "\n",
    "subset.head()"
   ]
  },
  {
   "cell_type": "markdown",
   "id": "1264cc28",
   "metadata": {},
   "source": [
    "##### Extracting data by rows"
   ]
  },
  {
   "cell_type": "markdown",
   "id": "cafa08aa",
   "metadata": {},
   "source": [
    "For rows, we have two options: \n",
    "\n",
    "- `.loc` - **loc**ates by name\n",
    "- `.iloc`- **loc**ates by numerical **i**ndex\n",
    "\n",
    "Remember that we are still indexed by movie Title, so to use `.loc` we give it the Title of a movie:"
   ]
  },
  {
   "cell_type": "code",
   "execution_count": 30,
   "id": "3d3e3ca1",
   "metadata": {},
   "outputs": [
    {
     "data": {
      "text/plain": [
       "rank                                                                2\n",
       "genre                                        Adventure,Mystery,Sci-Fi\n",
       "description         Following clues to the origin of mankind, a te...\n",
       "director                                                 Ridley Scott\n",
       "actors              Noomi Rapace, Logan Marshall-Green, Michael Fa...\n",
       "year                                                             2012\n",
       "runtime                                                           124\n",
       "rating                                                            7.0\n",
       "votes                                                          485820\n",
       "revenue_millions                                               126.46\n",
       "metascore                                                        65.0\n",
       "Name: Prometheus, dtype: object"
      ]
     },
     "execution_count": 30,
     "metadata": {},
     "output_type": "execute_result"
    }
   ],
   "source": [
    "prom = movies_df.loc[\"Prometheus\"]\n",
    "\n",
    "prom"
   ]
  },
  {
   "cell_type": "markdown",
   "id": "5555cf3b",
   "metadata": {},
   "source": [
    "On the other hand, with `iloc` we give it the numerical index of Prometheus:"
   ]
  },
  {
   "cell_type": "code",
   "execution_count": 31,
   "id": "471d31c3",
   "metadata": {},
   "outputs": [],
   "source": [
    "prom = movies_df.iloc[1]"
   ]
  },
  {
   "cell_type": "markdown",
   "id": "2e118e95",
   "metadata": {},
   "source": [
    "`loc` and `iloc` can be thought of as similar to Python `list` slicing. To show this even further, let's select multiple rows.\n",
    "\n",
    "How would you do it with a list? \n",
    "\n",
    "In Python, just slice with brackets like `example_list[1:4]`. It's works the same way in pandas:"
   ]
  },
  {
   "cell_type": "code",
   "execution_count": 32,
   "id": "6cded161",
   "metadata": {},
   "outputs": [
    {
     "data": {
      "text/html": [
       "<div>\n",
       "<style scoped>\n",
       "    .dataframe tbody tr th:only-of-type {\n",
       "        vertical-align: middle;\n",
       "    }\n",
       "\n",
       "    .dataframe tbody tr th {\n",
       "        vertical-align: top;\n",
       "    }\n",
       "\n",
       "    .dataframe thead th {\n",
       "        text-align: right;\n",
       "    }\n",
       "</style>\n",
       "<table border=\"1\" class=\"dataframe\">\n",
       "  <thead>\n",
       "    <tr style=\"text-align: right;\">\n",
       "      <th></th>\n",
       "      <th>rank</th>\n",
       "      <th>genre</th>\n",
       "      <th>description</th>\n",
       "      <th>director</th>\n",
       "      <th>actors</th>\n",
       "      <th>year</th>\n",
       "      <th>runtime</th>\n",
       "      <th>rating</th>\n",
       "      <th>votes</th>\n",
       "      <th>revenue_millions</th>\n",
       "      <th>metascore</th>\n",
       "    </tr>\n",
       "    <tr>\n",
       "      <th>Title</th>\n",
       "      <th></th>\n",
       "      <th></th>\n",
       "      <th></th>\n",
       "      <th></th>\n",
       "      <th></th>\n",
       "      <th></th>\n",
       "      <th></th>\n",
       "      <th></th>\n",
       "      <th></th>\n",
       "      <th></th>\n",
       "      <th></th>\n",
       "    </tr>\n",
       "  </thead>\n",
       "  <tbody>\n",
       "    <tr>\n",
       "      <th>Prometheus</th>\n",
       "      <td>2</td>\n",
       "      <td>Adventure,Mystery,Sci-Fi</td>\n",
       "      <td>Following clues to the origin of mankind, a te...</td>\n",
       "      <td>Ridley Scott</td>\n",
       "      <td>Noomi Rapace, Logan Marshall-Green, Michael Fa...</td>\n",
       "      <td>2012</td>\n",
       "      <td>124</td>\n",
       "      <td>7.0</td>\n",
       "      <td>485820</td>\n",
       "      <td>126.46</td>\n",
       "      <td>65.0</td>\n",
       "    </tr>\n",
       "    <tr>\n",
       "      <th>Split</th>\n",
       "      <td>3</td>\n",
       "      <td>Horror,Thriller</td>\n",
       "      <td>Three girls are kidnapped by a man with a diag...</td>\n",
       "      <td>M. Night Shyamalan</td>\n",
       "      <td>James McAvoy, Anya Taylor-Joy, Haley Lu Richar...</td>\n",
       "      <td>2016</td>\n",
       "      <td>117</td>\n",
       "      <td>7.3</td>\n",
       "      <td>157606</td>\n",
       "      <td>138.12</td>\n",
       "      <td>62.0</td>\n",
       "    </tr>\n",
       "    <tr>\n",
       "      <th>Sing</th>\n",
       "      <td>4</td>\n",
       "      <td>Animation,Comedy,Family</td>\n",
       "      <td>In a city of humanoid animals, a hustling thea...</td>\n",
       "      <td>Christophe Lourdelet</td>\n",
       "      <td>Matthew McConaughey,Reese Witherspoon, Seth Ma...</td>\n",
       "      <td>2016</td>\n",
       "      <td>108</td>\n",
       "      <td>7.2</td>\n",
       "      <td>60545</td>\n",
       "      <td>270.32</td>\n",
       "      <td>59.0</td>\n",
       "    </tr>\n",
       "  </tbody>\n",
       "</table>\n",
       "</div>"
      ],
      "text/plain": [
       "            rank                     genre  \\\n",
       "Title                                        \n",
       "Prometheus     2  Adventure,Mystery,Sci-Fi   \n",
       "Split          3           Horror,Thriller   \n",
       "Sing           4   Animation,Comedy,Family   \n",
       "\n",
       "                                                  description  \\\n",
       "Title                                                           \n",
       "Prometheus  Following clues to the origin of mankind, a te...   \n",
       "Split       Three girls are kidnapped by a man with a diag...   \n",
       "Sing        In a city of humanoid animals, a hustling thea...   \n",
       "\n",
       "                        director  \\\n",
       "Title                              \n",
       "Prometheus          Ridley Scott   \n",
       "Split         M. Night Shyamalan   \n",
       "Sing        Christophe Lourdelet   \n",
       "\n",
       "                                                       actors  year  runtime  \\\n",
       "Title                                                                          \n",
       "Prometheus  Noomi Rapace, Logan Marshall-Green, Michael Fa...  2012      124   \n",
       "Split       James McAvoy, Anya Taylor-Joy, Haley Lu Richar...  2016      117   \n",
       "Sing        Matthew McConaughey,Reese Witherspoon, Seth Ma...  2016      108   \n",
       "\n",
       "            rating   votes  revenue_millions  metascore  \n",
       "Title                                                    \n",
       "Prometheus     7.0  485820            126.46       65.0  \n",
       "Split          7.3  157606            138.12       62.0  \n",
       "Sing           7.2   60545            270.32       59.0  "
      ]
     },
     "execution_count": 32,
     "metadata": {},
     "output_type": "execute_result"
    }
   ],
   "source": [
    "movie_subset = movies_df.loc['Prometheus':'Sing']\n",
    "\n",
    "movie_subset = movies_df.iloc[1:4]\n",
    "\n",
    "movie_subset"
   ]
  },
  {
   "cell_type": "markdown",
   "id": "2e679507",
   "metadata": {},
   "source": [
    "## Exercise\n",
    "\n",
    "**Try on your own**\n",
    "\n",
    "1. Select a subset of movies where the numerical indices are between 20-25, what is the title of the last movie in this subset?\n"
   ]
  },
  {
   "cell_type": "markdown",
   "id": "be7ea707",
   "metadata": {},
   "source": [
    "#### Conditional selections\n",
    "\n",
    "What if we want to make a conditional selection? \n",
    "\n",
    "For example, what if we want to filter our movies DataFrame to show only films directed by Ridley Scott or films with a rating greater than or equal to 8.0?\n",
    "\n",
    "To do that, we take a column from the DataFrame and apply a Boolean condition to it. Here's an example of a Boolean condition:"
   ]
  },
  {
   "cell_type": "code",
   "execution_count": 33,
   "id": "b2eb93f0",
   "metadata": {},
   "outputs": [
    {
     "data": {
      "text/html": [
       "<div>\n",
       "<style scoped>\n",
       "    .dataframe tbody tr th:only-of-type {\n",
       "        vertical-align: middle;\n",
       "    }\n",
       "\n",
       "    .dataframe tbody tr th {\n",
       "        vertical-align: top;\n",
       "    }\n",
       "\n",
       "    .dataframe thead th {\n",
       "        text-align: right;\n",
       "    }\n",
       "</style>\n",
       "<table border=\"1\" class=\"dataframe\">\n",
       "  <thead>\n",
       "    <tr style=\"text-align: right;\">\n",
       "      <th></th>\n",
       "      <th>rank</th>\n",
       "      <th>genre</th>\n",
       "      <th>description</th>\n",
       "      <th>director</th>\n",
       "      <th>actors</th>\n",
       "      <th>year</th>\n",
       "      <th>runtime</th>\n",
       "      <th>rating</th>\n",
       "      <th>votes</th>\n",
       "      <th>revenue_millions</th>\n",
       "      <th>metascore</th>\n",
       "    </tr>\n",
       "    <tr>\n",
       "      <th>Title</th>\n",
       "      <th></th>\n",
       "      <th></th>\n",
       "      <th></th>\n",
       "      <th></th>\n",
       "      <th></th>\n",
       "      <th></th>\n",
       "      <th></th>\n",
       "      <th></th>\n",
       "      <th></th>\n",
       "      <th></th>\n",
       "      <th></th>\n",
       "    </tr>\n",
       "  </thead>\n",
       "  <tbody>\n",
       "    <tr>\n",
       "      <th>Prometheus</th>\n",
       "      <td>2</td>\n",
       "      <td>Adventure,Mystery,Sci-Fi</td>\n",
       "      <td>Following clues to the origin of mankind, a te...</td>\n",
       "      <td>Ridley Scott</td>\n",
       "      <td>Noomi Rapace, Logan Marshall-Green, Michael Fa...</td>\n",
       "      <td>2012</td>\n",
       "      <td>124</td>\n",
       "      <td>7.0</td>\n",
       "      <td>485820</td>\n",
       "      <td>126.46</td>\n",
       "      <td>65.0</td>\n",
       "    </tr>\n",
       "    <tr>\n",
       "      <th>The Martian</th>\n",
       "      <td>103</td>\n",
       "      <td>Adventure,Drama,Sci-Fi</td>\n",
       "      <td>An astronaut becomes stranded on Mars after hi...</td>\n",
       "      <td>Ridley Scott</td>\n",
       "      <td>Matt Damon, Jessica Chastain, Kristen Wiig, Ka...</td>\n",
       "      <td>2015</td>\n",
       "      <td>144</td>\n",
       "      <td>8.0</td>\n",
       "      <td>556097</td>\n",
       "      <td>228.43</td>\n",
       "      <td>80.0</td>\n",
       "    </tr>\n",
       "    <tr>\n",
       "      <th>Robin Hood</th>\n",
       "      <td>388</td>\n",
       "      <td>Action,Adventure,Drama</td>\n",
       "      <td>In 12th century England, Robin and his band of...</td>\n",
       "      <td>Ridley Scott</td>\n",
       "      <td>Russell Crowe, Cate Blanchett, Matthew Macfady...</td>\n",
       "      <td>2010</td>\n",
       "      <td>140</td>\n",
       "      <td>6.7</td>\n",
       "      <td>221117</td>\n",
       "      <td>105.22</td>\n",
       "      <td>53.0</td>\n",
       "    </tr>\n",
       "    <tr>\n",
       "      <th>American Gangster</th>\n",
       "      <td>471</td>\n",
       "      <td>Biography,Crime,Drama</td>\n",
       "      <td>In 1970s America, a detective works to bring d...</td>\n",
       "      <td>Ridley Scott</td>\n",
       "      <td>Denzel Washington, Russell Crowe, Chiwetel Eji...</td>\n",
       "      <td>2007</td>\n",
       "      <td>157</td>\n",
       "      <td>7.8</td>\n",
       "      <td>337835</td>\n",
       "      <td>130.13</td>\n",
       "      <td>76.0</td>\n",
       "    </tr>\n",
       "    <tr>\n",
       "      <th>Exodus: Gods and Kings</th>\n",
       "      <td>517</td>\n",
       "      <td>Action,Adventure,Drama</td>\n",
       "      <td>The defiant leader Moses rises up against the ...</td>\n",
       "      <td>Ridley Scott</td>\n",
       "      <td>Christian Bale, Joel Edgerton, Ben Kingsley, S...</td>\n",
       "      <td>2014</td>\n",
       "      <td>150</td>\n",
       "      <td>6.0</td>\n",
       "      <td>137299</td>\n",
       "      <td>65.01</td>\n",
       "      <td>52.0</td>\n",
       "    </tr>\n",
       "  </tbody>\n",
       "</table>\n",
       "</div>"
      ],
      "text/plain": [
       "                        rank                     genre  \\\n",
       "Title                                                    \n",
       "Prometheus                 2  Adventure,Mystery,Sci-Fi   \n",
       "The Martian              103    Adventure,Drama,Sci-Fi   \n",
       "Robin Hood               388    Action,Adventure,Drama   \n",
       "American Gangster        471     Biography,Crime,Drama   \n",
       "Exodus: Gods and Kings   517    Action,Adventure,Drama   \n",
       "\n",
       "                                                              description  \\\n",
       "Title                                                                       \n",
       "Prometheus              Following clues to the origin of mankind, a te...   \n",
       "The Martian             An astronaut becomes stranded on Mars after hi...   \n",
       "Robin Hood              In 12th century England, Robin and his band of...   \n",
       "American Gangster       In 1970s America, a detective works to bring d...   \n",
       "Exodus: Gods and Kings  The defiant leader Moses rises up against the ...   \n",
       "\n",
       "                            director  \\\n",
       "Title                                  \n",
       "Prometheus              Ridley Scott   \n",
       "The Martian             Ridley Scott   \n",
       "Robin Hood              Ridley Scott   \n",
       "American Gangster       Ridley Scott   \n",
       "Exodus: Gods and Kings  Ridley Scott   \n",
       "\n",
       "                                                                   actors  \\\n",
       "Title                                                                       \n",
       "Prometheus              Noomi Rapace, Logan Marshall-Green, Michael Fa...   \n",
       "The Martian             Matt Damon, Jessica Chastain, Kristen Wiig, Ka...   \n",
       "Robin Hood              Russell Crowe, Cate Blanchett, Matthew Macfady...   \n",
       "American Gangster       Denzel Washington, Russell Crowe, Chiwetel Eji...   \n",
       "Exodus: Gods and Kings  Christian Bale, Joel Edgerton, Ben Kingsley, S...   \n",
       "\n",
       "                        year  runtime  rating   votes  revenue_millions  \\\n",
       "Title                                                                     \n",
       "Prometheus              2012      124     7.0  485820            126.46   \n",
       "The Martian             2015      144     8.0  556097            228.43   \n",
       "Robin Hood              2010      140     6.7  221117            105.22   \n",
       "American Gangster       2007      157     7.8  337835            130.13   \n",
       "Exodus: Gods and Kings  2014      150     6.0  137299             65.01   \n",
       "\n",
       "                        metascore  \n",
       "Title                              \n",
       "Prometheus                   65.0  \n",
       "The Martian                  80.0  \n",
       "Robin Hood                   53.0  \n",
       "American Gangster            76.0  \n",
       "Exodus: Gods and Kings       52.0  "
      ]
     },
     "execution_count": 33,
     "metadata": {},
     "output_type": "execute_result"
    }
   ],
   "source": [
    "condition = movies_df[movies_df['director'] == \"Ridley Scott\"]\n",
    "\n",
    "condition.head()"
   ]
  },
  {
   "cell_type": "markdown",
   "id": "ab8cd7cf",
   "metadata": {},
   "source": [
    "Here we created a new DataFrame called *condition* and out of all 1,000 movies, these 5 have Ridley Scott as the director"
   ]
  },
  {
   "cell_type": "markdown",
   "id": "409a4569",
   "metadata": {},
   "source": [
    "You can get used to looking at these conditionals by reading it like: \n",
    "\n",
    "> Select movies_df where movies_df director equals Ridley Scott\n"
   ]
  },
  {
   "cell_type": "markdown",
   "id": "7dc7b553",
   "metadata": {},
   "source": [
    "Let's look at conditional selections using numerical values by filtering the DataFrame by ratings:"
   ]
  },
  {
   "cell_type": "code",
   "execution_count": 34,
   "id": "e37d0db8",
   "metadata": {},
   "outputs": [
    {
     "data": {
      "text/html": [
       "<div>\n",
       "<style scoped>\n",
       "    .dataframe tbody tr th:only-of-type {\n",
       "        vertical-align: middle;\n",
       "    }\n",
       "\n",
       "    .dataframe tbody tr th {\n",
       "        vertical-align: top;\n",
       "    }\n",
       "\n",
       "    .dataframe thead th {\n",
       "        text-align: right;\n",
       "    }\n",
       "</style>\n",
       "<table border=\"1\" class=\"dataframe\">\n",
       "  <thead>\n",
       "    <tr style=\"text-align: right;\">\n",
       "      <th></th>\n",
       "      <th>rank</th>\n",
       "      <th>genre</th>\n",
       "      <th>description</th>\n",
       "      <th>director</th>\n",
       "      <th>actors</th>\n",
       "      <th>year</th>\n",
       "      <th>runtime</th>\n",
       "      <th>rating</th>\n",
       "      <th>votes</th>\n",
       "      <th>revenue_millions</th>\n",
       "      <th>metascore</th>\n",
       "    </tr>\n",
       "    <tr>\n",
       "      <th>Title</th>\n",
       "      <th></th>\n",
       "      <th></th>\n",
       "      <th></th>\n",
       "      <th></th>\n",
       "      <th></th>\n",
       "      <th></th>\n",
       "      <th></th>\n",
       "      <th></th>\n",
       "      <th></th>\n",
       "      <th></th>\n",
       "      <th></th>\n",
       "    </tr>\n",
       "  </thead>\n",
       "  <tbody>\n",
       "    <tr>\n",
       "      <th>Interstellar</th>\n",
       "      <td>37</td>\n",
       "      <td>Adventure,Drama,Sci-Fi</td>\n",
       "      <td>A team of explorers travel through a wormhole ...</td>\n",
       "      <td>Christopher Nolan</td>\n",
       "      <td>Matthew McConaughey, Anne Hathaway, Jessica Ch...</td>\n",
       "      <td>2014</td>\n",
       "      <td>169</td>\n",
       "      <td>8.6</td>\n",
       "      <td>1047747</td>\n",
       "      <td>187.99</td>\n",
       "      <td>74.0</td>\n",
       "    </tr>\n",
       "    <tr>\n",
       "      <th>The Dark Knight</th>\n",
       "      <td>55</td>\n",
       "      <td>Action,Crime,Drama</td>\n",
       "      <td>When the menace known as the Joker wreaks havo...</td>\n",
       "      <td>Christopher Nolan</td>\n",
       "      <td>Christian Bale, Heath Ledger, Aaron Eckhart,Mi...</td>\n",
       "      <td>2008</td>\n",
       "      <td>152</td>\n",
       "      <td>9.0</td>\n",
       "      <td>1791916</td>\n",
       "      <td>533.32</td>\n",
       "      <td>82.0</td>\n",
       "    </tr>\n",
       "    <tr>\n",
       "      <th>Inception</th>\n",
       "      <td>81</td>\n",
       "      <td>Action,Adventure,Sci-Fi</td>\n",
       "      <td>A thief, who steals corporate secrets through ...</td>\n",
       "      <td>Christopher Nolan</td>\n",
       "      <td>Leonardo DiCaprio, Joseph Gordon-Levitt, Ellen...</td>\n",
       "      <td>2010</td>\n",
       "      <td>148</td>\n",
       "      <td>8.8</td>\n",
       "      <td>1583625</td>\n",
       "      <td>292.57</td>\n",
       "      <td>74.0</td>\n",
       "    </tr>\n",
       "  </tbody>\n",
       "</table>\n",
       "</div>"
      ],
      "text/plain": [
       "                 rank                    genre  \\\n",
       "Title                                            \n",
       "Interstellar       37   Adventure,Drama,Sci-Fi   \n",
       "The Dark Knight    55       Action,Crime,Drama   \n",
       "Inception          81  Action,Adventure,Sci-Fi   \n",
       "\n",
       "                                                       description  \\\n",
       "Title                                                                \n",
       "Interstellar     A team of explorers travel through a wormhole ...   \n",
       "The Dark Knight  When the menace known as the Joker wreaks havo...   \n",
       "Inception        A thief, who steals corporate secrets through ...   \n",
       "\n",
       "                          director  \\\n",
       "Title                                \n",
       "Interstellar     Christopher Nolan   \n",
       "The Dark Knight  Christopher Nolan   \n",
       "Inception        Christopher Nolan   \n",
       "\n",
       "                                                            actors  year  \\\n",
       "Title                                                                      \n",
       "Interstellar     Matthew McConaughey, Anne Hathaway, Jessica Ch...  2014   \n",
       "The Dark Knight  Christian Bale, Heath Ledger, Aaron Eckhart,Mi...  2008   \n",
       "Inception        Leonardo DiCaprio, Joseph Gordon-Levitt, Ellen...  2010   \n",
       "\n",
       "                 runtime  rating    votes  revenue_millions  metascore  \n",
       "Title                                                                   \n",
       "Interstellar         169     8.6  1047747            187.99       74.0  \n",
       "The Dark Knight      152     9.0  1791916            533.32       82.0  \n",
       "Inception            148     8.8  1583625            292.57       74.0  "
      ]
     },
     "execution_count": 34,
     "metadata": {},
     "output_type": "execute_result"
    }
   ],
   "source": [
    "movies_df[movies_df['rating'] >= 8.6].head(3)"
   ]
  },
  {
   "cell_type": "markdown",
   "id": "0e5c5d17",
   "metadata": {},
   "source": [
    "Let's filter the the DataFrame to show only movies by Christopher Nolan OR Ridley Scott:"
   ]
  },
  {
   "cell_type": "code",
   "execution_count": 35,
   "id": "d1d4492d",
   "metadata": {},
   "outputs": [
    {
     "data": {
      "text/html": [
       "<div>\n",
       "<style scoped>\n",
       "    .dataframe tbody tr th:only-of-type {\n",
       "        vertical-align: middle;\n",
       "    }\n",
       "\n",
       "    .dataframe tbody tr th {\n",
       "        vertical-align: top;\n",
       "    }\n",
       "\n",
       "    .dataframe thead th {\n",
       "        text-align: right;\n",
       "    }\n",
       "</style>\n",
       "<table border=\"1\" class=\"dataframe\">\n",
       "  <thead>\n",
       "    <tr style=\"text-align: right;\">\n",
       "      <th></th>\n",
       "      <th>rank</th>\n",
       "      <th>genre</th>\n",
       "      <th>description</th>\n",
       "      <th>director</th>\n",
       "      <th>actors</th>\n",
       "      <th>year</th>\n",
       "      <th>runtime</th>\n",
       "      <th>rating</th>\n",
       "      <th>votes</th>\n",
       "      <th>revenue_millions</th>\n",
       "      <th>metascore</th>\n",
       "    </tr>\n",
       "    <tr>\n",
       "      <th>Title</th>\n",
       "      <th></th>\n",
       "      <th></th>\n",
       "      <th></th>\n",
       "      <th></th>\n",
       "      <th></th>\n",
       "      <th></th>\n",
       "      <th></th>\n",
       "      <th></th>\n",
       "      <th></th>\n",
       "      <th></th>\n",
       "      <th></th>\n",
       "    </tr>\n",
       "  </thead>\n",
       "  <tbody>\n",
       "    <tr>\n",
       "      <th>Prometheus</th>\n",
       "      <td>2</td>\n",
       "      <td>Adventure,Mystery,Sci-Fi</td>\n",
       "      <td>Following clues to the origin of mankind, a te...</td>\n",
       "      <td>Ridley Scott</td>\n",
       "      <td>Noomi Rapace, Logan Marshall-Green, Michael Fa...</td>\n",
       "      <td>2012</td>\n",
       "      <td>124</td>\n",
       "      <td>7.0</td>\n",
       "      <td>485820</td>\n",
       "      <td>126.46</td>\n",
       "      <td>65.0</td>\n",
       "    </tr>\n",
       "    <tr>\n",
       "      <th>Interstellar</th>\n",
       "      <td>37</td>\n",
       "      <td>Adventure,Drama,Sci-Fi</td>\n",
       "      <td>A team of explorers travel through a wormhole ...</td>\n",
       "      <td>Christopher Nolan</td>\n",
       "      <td>Matthew McConaughey, Anne Hathaway, Jessica Ch...</td>\n",
       "      <td>2014</td>\n",
       "      <td>169</td>\n",
       "      <td>8.6</td>\n",
       "      <td>1047747</td>\n",
       "      <td>187.99</td>\n",
       "      <td>74.0</td>\n",
       "    </tr>\n",
       "    <tr>\n",
       "      <th>The Dark Knight</th>\n",
       "      <td>55</td>\n",
       "      <td>Action,Crime,Drama</td>\n",
       "      <td>When the menace known as the Joker wreaks havo...</td>\n",
       "      <td>Christopher Nolan</td>\n",
       "      <td>Christian Bale, Heath Ledger, Aaron Eckhart,Mi...</td>\n",
       "      <td>2008</td>\n",
       "      <td>152</td>\n",
       "      <td>9.0</td>\n",
       "      <td>1791916</td>\n",
       "      <td>533.32</td>\n",
       "      <td>82.0</td>\n",
       "    </tr>\n",
       "    <tr>\n",
       "      <th>The Prestige</th>\n",
       "      <td>65</td>\n",
       "      <td>Drama,Mystery,Sci-Fi</td>\n",
       "      <td>Two stage magicians engage in competitive one-...</td>\n",
       "      <td>Christopher Nolan</td>\n",
       "      <td>Christian Bale, Hugh Jackman, Scarlett Johanss...</td>\n",
       "      <td>2006</td>\n",
       "      <td>130</td>\n",
       "      <td>8.5</td>\n",
       "      <td>913152</td>\n",
       "      <td>53.08</td>\n",
       "      <td>66.0</td>\n",
       "    </tr>\n",
       "    <tr>\n",
       "      <th>Inception</th>\n",
       "      <td>81</td>\n",
       "      <td>Action,Adventure,Sci-Fi</td>\n",
       "      <td>A thief, who steals corporate secrets through ...</td>\n",
       "      <td>Christopher Nolan</td>\n",
       "      <td>Leonardo DiCaprio, Joseph Gordon-Levitt, Ellen...</td>\n",
       "      <td>2010</td>\n",
       "      <td>148</td>\n",
       "      <td>8.8</td>\n",
       "      <td>1583625</td>\n",
       "      <td>292.57</td>\n",
       "      <td>74.0</td>\n",
       "    </tr>\n",
       "  </tbody>\n",
       "</table>\n",
       "</div>"
      ],
      "text/plain": [
       "                 rank                     genre  \\\n",
       "Title                                             \n",
       "Prometheus          2  Adventure,Mystery,Sci-Fi   \n",
       "Interstellar       37    Adventure,Drama,Sci-Fi   \n",
       "The Dark Knight    55        Action,Crime,Drama   \n",
       "The Prestige       65      Drama,Mystery,Sci-Fi   \n",
       "Inception          81   Action,Adventure,Sci-Fi   \n",
       "\n",
       "                                                       description  \\\n",
       "Title                                                                \n",
       "Prometheus       Following clues to the origin of mankind, a te...   \n",
       "Interstellar     A team of explorers travel through a wormhole ...   \n",
       "The Dark Knight  When the menace known as the Joker wreaks havo...   \n",
       "The Prestige     Two stage magicians engage in competitive one-...   \n",
       "Inception        A thief, who steals corporate secrets through ...   \n",
       "\n",
       "                          director  \\\n",
       "Title                                \n",
       "Prometheus            Ridley Scott   \n",
       "Interstellar     Christopher Nolan   \n",
       "The Dark Knight  Christopher Nolan   \n",
       "The Prestige     Christopher Nolan   \n",
       "Inception        Christopher Nolan   \n",
       "\n",
       "                                                            actors  year  \\\n",
       "Title                                                                      \n",
       "Prometheus       Noomi Rapace, Logan Marshall-Green, Michael Fa...  2012   \n",
       "Interstellar     Matthew McConaughey, Anne Hathaway, Jessica Ch...  2014   \n",
       "The Dark Knight  Christian Bale, Heath Ledger, Aaron Eckhart,Mi...  2008   \n",
       "The Prestige     Christian Bale, Hugh Jackman, Scarlett Johanss...  2006   \n",
       "Inception        Leonardo DiCaprio, Joseph Gordon-Levitt, Ellen...  2010   \n",
       "\n",
       "                 runtime  rating    votes  revenue_millions  metascore  \n",
       "Title                                                                   \n",
       "Prometheus           124     7.0   485820            126.46       65.0  \n",
       "Interstellar         169     8.6  1047747            187.99       74.0  \n",
       "The Dark Knight      152     9.0  1791916            533.32       82.0  \n",
       "The Prestige         130     8.5   913152             53.08       66.0  \n",
       "Inception            148     8.8  1583625            292.57       74.0  "
      ]
     },
     "execution_count": 35,
     "metadata": {},
     "output_type": "execute_result"
    }
   ],
   "source": [
    "movies_df[movies_df['director'].isin(['Christopher Nolan', 'Ridley Scott'])].head()"
   ]
  },
  {
   "cell_type": "markdown",
   "id": "22c22bb7",
   "metadata": {},
   "source": [
    "We create a `list` of directors that we want to include in our subset, and then we only select the rows where that condition applies"
   ]
  },
  {
   "cell_type": "markdown",
   "id": "f8343457",
   "metadata": {},
   "source": [
    "Let's say we want all movies that were released between 2005 and 2010, have a rating above 8.0, but made below the 25th percentile in revenue.\n",
    "\n",
    "Here's how we could do all of that:"
   ]
  },
  {
   "cell_type": "code",
   "execution_count": 36,
   "id": "76bfc693",
   "metadata": {},
   "outputs": [
    {
     "data": {
      "text/html": [
       "<div>\n",
       "<style scoped>\n",
       "    .dataframe tbody tr th:only-of-type {\n",
       "        vertical-align: middle;\n",
       "    }\n",
       "\n",
       "    .dataframe tbody tr th {\n",
       "        vertical-align: top;\n",
       "    }\n",
       "\n",
       "    .dataframe thead th {\n",
       "        text-align: right;\n",
       "    }\n",
       "</style>\n",
       "<table border=\"1\" class=\"dataframe\">\n",
       "  <thead>\n",
       "    <tr style=\"text-align: right;\">\n",
       "      <th></th>\n",
       "      <th>rank</th>\n",
       "      <th>genre</th>\n",
       "      <th>description</th>\n",
       "      <th>director</th>\n",
       "      <th>actors</th>\n",
       "      <th>year</th>\n",
       "      <th>runtime</th>\n",
       "      <th>rating</th>\n",
       "      <th>votes</th>\n",
       "      <th>revenue_millions</th>\n",
       "      <th>metascore</th>\n",
       "    </tr>\n",
       "    <tr>\n",
       "      <th>Title</th>\n",
       "      <th></th>\n",
       "      <th></th>\n",
       "      <th></th>\n",
       "      <th></th>\n",
       "      <th></th>\n",
       "      <th></th>\n",
       "      <th></th>\n",
       "      <th></th>\n",
       "      <th></th>\n",
       "      <th></th>\n",
       "      <th></th>\n",
       "    </tr>\n",
       "  </thead>\n",
       "  <tbody>\n",
       "    <tr>\n",
       "      <th>3 Idiots</th>\n",
       "      <td>431</td>\n",
       "      <td>Comedy,Drama</td>\n",
       "      <td>Two friends are searching for their long lost ...</td>\n",
       "      <td>Rajkumar Hirani</td>\n",
       "      <td>Aamir Khan, Madhavan, Mona Singh, Sharman Joshi</td>\n",
       "      <td>2009</td>\n",
       "      <td>170</td>\n",
       "      <td>8.4</td>\n",
       "      <td>238789</td>\n",
       "      <td>6.52</td>\n",
       "      <td>67.0</td>\n",
       "    </tr>\n",
       "    <tr>\n",
       "      <th>The Lives of Others</th>\n",
       "      <td>477</td>\n",
       "      <td>Drama,Thriller</td>\n",
       "      <td>In 1984 East Berlin, an agent of the secret po...</td>\n",
       "      <td>Florian Henckel von Donnersmarck</td>\n",
       "      <td>Ulrich Mühe, Martina Gedeck,Sebastian Koch, Ul...</td>\n",
       "      <td>2006</td>\n",
       "      <td>137</td>\n",
       "      <td>8.5</td>\n",
       "      <td>278103</td>\n",
       "      <td>11.28</td>\n",
       "      <td>89.0</td>\n",
       "    </tr>\n",
       "    <tr>\n",
       "      <th>Incendies</th>\n",
       "      <td>714</td>\n",
       "      <td>Drama,Mystery,War</td>\n",
       "      <td>Twins journey to the Middle East to discover t...</td>\n",
       "      <td>Denis Villeneuve</td>\n",
       "      <td>Lubna Azabal, Mélissa Désormeaux-Poulin, Maxim...</td>\n",
       "      <td>2010</td>\n",
       "      <td>131</td>\n",
       "      <td>8.2</td>\n",
       "      <td>92863</td>\n",
       "      <td>6.86</td>\n",
       "      <td>80.0</td>\n",
       "    </tr>\n",
       "    <tr>\n",
       "      <th>Taare Zameen Par</th>\n",
       "      <td>992</td>\n",
       "      <td>Drama,Family,Music</td>\n",
       "      <td>An eight-year-old boy is thought to be a lazy ...</td>\n",
       "      <td>Aamir Khan</td>\n",
       "      <td>Darsheel Safary, Aamir Khan, Tanay Chheda, Sac...</td>\n",
       "      <td>2007</td>\n",
       "      <td>165</td>\n",
       "      <td>8.5</td>\n",
       "      <td>102697</td>\n",
       "      <td>1.20</td>\n",
       "      <td>42.0</td>\n",
       "    </tr>\n",
       "  </tbody>\n",
       "</table>\n",
       "</div>"
      ],
      "text/plain": [
       "                     rank               genre  \\\n",
       "Title                                           \n",
       "3 Idiots              431        Comedy,Drama   \n",
       "The Lives of Others   477      Drama,Thriller   \n",
       "Incendies             714   Drama,Mystery,War   \n",
       "Taare Zameen Par      992  Drama,Family,Music   \n",
       "\n",
       "                                                           description  \\\n",
       "Title                                                                    \n",
       "3 Idiots             Two friends are searching for their long lost ...   \n",
       "The Lives of Others  In 1984 East Berlin, an agent of the secret po...   \n",
       "Incendies            Twins journey to the Middle East to discover t...   \n",
       "Taare Zameen Par     An eight-year-old boy is thought to be a lazy ...   \n",
       "\n",
       "                                             director  \\\n",
       "Title                                                   \n",
       "3 Idiots                              Rajkumar Hirani   \n",
       "The Lives of Others  Florian Henckel von Donnersmarck   \n",
       "Incendies                            Denis Villeneuve   \n",
       "Taare Zameen Par                           Aamir Khan   \n",
       "\n",
       "                                                                actors  year  \\\n",
       "Title                                                                          \n",
       "3 Idiots               Aamir Khan, Madhavan, Mona Singh, Sharman Joshi  2009   \n",
       "The Lives of Others  Ulrich Mühe, Martina Gedeck,Sebastian Koch, Ul...  2006   \n",
       "Incendies            Lubna Azabal, Mélissa Désormeaux-Poulin, Maxim...  2010   \n",
       "Taare Zameen Par     Darsheel Safary, Aamir Khan, Tanay Chheda, Sac...  2007   \n",
       "\n",
       "                     runtime  rating   votes  revenue_millions  metascore  \n",
       "Title                                                                      \n",
       "3 Idiots                 170     8.4  238789              6.52       67.0  \n",
       "The Lives of Others      137     8.5  278103             11.28       89.0  \n",
       "Incendies                131     8.2   92863              6.86       80.0  \n",
       "Taare Zameen Par         165     8.5  102697              1.20       42.0  "
      ]
     },
     "execution_count": 36,
     "metadata": {},
     "output_type": "execute_result"
    }
   ],
   "source": [
    "movies_df[\n",
    "    ((movies_df['year'] >= 2005) & (movies_df['year'] <= 2010))\n",
    "    & (movies_df['rating'] > 8.0)\n",
    "    & (movies_df['revenue_millions'] < movies_df['revenue_millions'].quantile(0.25))\n",
    "]"
   ]
  },
  {
   "cell_type": "markdown",
   "id": "4c467734",
   "metadata": {},
   "source": [
    "## Exercise\n",
    "\n",
    "**Try on your own**\n",
    "\n",
    "1. Find the subset of movies that were made in 2006\n",
    "2. Find the subset of movies that have either Comedy or Drama as a genre\n",
    "3. Find the subset of movies that have a rating over 8.0 and were made after 2010\n"
   ]
  },
  {
   "cell_type": "markdown",
   "id": "cada9c7e",
   "metadata": {},
   "source": [
    "#### Applying functions\n",
    "\n",
    "We can use a function to convert movies with an 8.0 or greater to a string value of \"good\" and the rest to \"bad\" and use this transformed values to create a new column.\n",
    "\n",
    "First we would create a function that, when given a rating, determines if it's good or bad:"
   ]
  },
  {
   "cell_type": "code",
   "execution_count": 37,
   "id": "24c54b63",
   "metadata": {},
   "outputs": [],
   "source": [
    "def rating_function(x):\n",
    "    if x >= 8.0:\n",
    "        return \"good\"\n",
    "    else:\n",
    "        return \"bad\""
   ]
  },
  {
   "cell_type": "markdown",
   "id": "432a85fa",
   "metadata": {},
   "source": [
    "Now we want to send the entire rating column through this function, which is what `apply()` does:"
   ]
  },
  {
   "cell_type": "code",
   "execution_count": 38,
   "id": "b3489c1c",
   "metadata": {},
   "outputs": [
    {
     "data": {
      "text/html": [
       "<div>\n",
       "<style scoped>\n",
       "    .dataframe tbody tr th:only-of-type {\n",
       "        vertical-align: middle;\n",
       "    }\n",
       "\n",
       "    .dataframe tbody tr th {\n",
       "        vertical-align: top;\n",
       "    }\n",
       "\n",
       "    .dataframe thead th {\n",
       "        text-align: right;\n",
       "    }\n",
       "</style>\n",
       "<table border=\"1\" class=\"dataframe\">\n",
       "  <thead>\n",
       "    <tr style=\"text-align: right;\">\n",
       "      <th></th>\n",
       "      <th>rank</th>\n",
       "      <th>genre</th>\n",
       "      <th>description</th>\n",
       "      <th>director</th>\n",
       "      <th>actors</th>\n",
       "      <th>year</th>\n",
       "      <th>runtime</th>\n",
       "      <th>rating</th>\n",
       "      <th>votes</th>\n",
       "      <th>revenue_millions</th>\n",
       "      <th>metascore</th>\n",
       "      <th>rating_category</th>\n",
       "    </tr>\n",
       "    <tr>\n",
       "      <th>Title</th>\n",
       "      <th></th>\n",
       "      <th></th>\n",
       "      <th></th>\n",
       "      <th></th>\n",
       "      <th></th>\n",
       "      <th></th>\n",
       "      <th></th>\n",
       "      <th></th>\n",
       "      <th></th>\n",
       "      <th></th>\n",
       "      <th></th>\n",
       "      <th></th>\n",
       "    </tr>\n",
       "  </thead>\n",
       "  <tbody>\n",
       "    <tr>\n",
       "      <th>Guardians of the Galaxy</th>\n",
       "      <td>1</td>\n",
       "      <td>Action,Adventure,Sci-Fi</td>\n",
       "      <td>A group of intergalactic criminals are forced ...</td>\n",
       "      <td>James Gunn</td>\n",
       "      <td>Chris Pratt, Vin Diesel, Bradley Cooper, Zoe S...</td>\n",
       "      <td>2014</td>\n",
       "      <td>121</td>\n",
       "      <td>8.1</td>\n",
       "      <td>757074</td>\n",
       "      <td>333.13</td>\n",
       "      <td>76.0</td>\n",
       "      <td>good</td>\n",
       "    </tr>\n",
       "    <tr>\n",
       "      <th>Prometheus</th>\n",
       "      <td>2</td>\n",
       "      <td>Adventure,Mystery,Sci-Fi</td>\n",
       "      <td>Following clues to the origin of mankind, a te...</td>\n",
       "      <td>Ridley Scott</td>\n",
       "      <td>Noomi Rapace, Logan Marshall-Green, Michael Fa...</td>\n",
       "      <td>2012</td>\n",
       "      <td>124</td>\n",
       "      <td>7.0</td>\n",
       "      <td>485820</td>\n",
       "      <td>126.46</td>\n",
       "      <td>65.0</td>\n",
       "      <td>bad</td>\n",
       "    </tr>\n",
       "  </tbody>\n",
       "</table>\n",
       "</div>"
      ],
      "text/plain": [
       "                         rank                     genre  \\\n",
       "Title                                                     \n",
       "Guardians of the Galaxy     1   Action,Adventure,Sci-Fi   \n",
       "Prometheus                  2  Adventure,Mystery,Sci-Fi   \n",
       "\n",
       "                                                               description  \\\n",
       "Title                                                                        \n",
       "Guardians of the Galaxy  A group of intergalactic criminals are forced ...   \n",
       "Prometheus               Following clues to the origin of mankind, a te...   \n",
       "\n",
       "                             director  \\\n",
       "Title                                   \n",
       "Guardians of the Galaxy    James Gunn   \n",
       "Prometheus               Ridley Scott   \n",
       "\n",
       "                                                                    actors  \\\n",
       "Title                                                                        \n",
       "Guardians of the Galaxy  Chris Pratt, Vin Diesel, Bradley Cooper, Zoe S...   \n",
       "Prometheus               Noomi Rapace, Logan Marshall-Green, Michael Fa...   \n",
       "\n",
       "                         year  runtime  rating   votes  revenue_millions  \\\n",
       "Title                                                                      \n",
       "Guardians of the Galaxy  2014      121     8.1  757074            333.13   \n",
       "Prometheus               2012      124     7.0  485820            126.46   \n",
       "\n",
       "                         metascore rating_category  \n",
       "Title                                               \n",
       "Guardians of the Galaxy       76.0            good  \n",
       "Prometheus                    65.0             bad  "
      ]
     },
     "execution_count": 38,
     "metadata": {},
     "output_type": "execute_result"
    }
   ],
   "source": [
    "movies_df[\"rating_category\"] = movies_df[\"rating\"].apply(rating_function)\n",
    "\n",
    "movies_df.head(2)"
   ]
  },
  {
   "cell_type": "markdown",
   "id": "0b61813f",
   "metadata": {},
   "source": [
    "The `.apply()` method passes every value in the `rating` column through the `rating_function` and then returns a new Series. This Series is then assigned to a new column called `rating_category`."
   ]
  },
  {
   "cell_type": "markdown",
   "id": "5fe2ae60",
   "metadata": {},
   "source": [
    "By combining categorical and continuous data, we can create a Boxplot of revenue that is grouped by the Rating Category we created above:"
   ]
  },
  {
   "cell_type": "code",
   "execution_count": 39,
   "id": "1e4bf57f",
   "metadata": {},
   "outputs": [
    {
     "data": {
      "image/png": "[encoded data removed]",
      "text/plain": [
       "<Figure size 576x360 with 1 Axes>"
      ]
     },
     "metadata": {
      "needs_background": "light"
     },
     "output_type": "display_data"
    }
   ],
   "source": [
    "plt.rcParams.update({'font.size': 12, 'figure.figsize': (8, 5)}) # set font and plot size to be larger\n",
    "movies_df.boxplot(column='revenue_millions', by='rating_category');"
   ]
  },
  {
   "cell_type": "markdown",
   "id": "de6a6987",
   "metadata": {},
   "source": [
    "## Exercise\n",
    "\n",
    "**Try on your own**\n",
    "\n",
    "1. Make a function that categorizes movies based on \"old\" and \"new\" (anything before 2008 is considered old)\n",
    "2. Plot this year_category using a box plot grouped by and describe what you see\n"
   ]
  }
 ],
 "metadata": {
  "kernelspec": {
   "display_name": "Python 3",
   "language": "python",
   "name": "python3"
  },
  "language_info": {
   "codemirror_mode": {
    "name": "ipython",
    "version": 3
   },
   "file_extension": ".py",
   "mimetype": "text/x-python",
   "name": "python",
   "nbconvert_exporter": "python",
   "pygments_lexer": "ipython3",
   "version": "3.8.8"
  }
 },
 "nbformat": 4,
 "nbformat_minor": 5
}
